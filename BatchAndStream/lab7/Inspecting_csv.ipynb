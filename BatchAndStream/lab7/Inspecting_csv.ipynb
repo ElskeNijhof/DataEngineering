{
 "cells": [
  {
   "cell_type": "code",
   "execution_count": null,
   "id": "e8720a44-948d-4a11-a00b-1049b58f533a",
   "metadata": {},
   "outputs": [],
   "source": [
    "# Inspecting_CSV file \n",
    "\n",
    "import csv\n",
    "import pandas as pd\n",
    "\n",
    "# Production of sorted csv file\n",
    "#df_2008 = pd.read_csv(\"2008.csv\")\n",
    "#df_2008.sort_values([\"Month\",\"DayofMonth\", \"ArrTime\"],axis=0, ascending=True,inplace=True,ignore_index=True, na_position='first')\n",
    "#ignore_index: this changes the indices so that it again starts at 0 and ends at the last one\n",
    "\n",
    "#file_2008 = open(\"2008_sorted.csv\")\n",
    "#df_2008_sorted = pd.read_csv(\"2008_sorted.csv\")\n",
    "df_2008_sorted.dtypes\n",
    "\n"
   ]
  },
  {
   "cell_type": "code",
   "execution_count": null,
   "id": "f6d06d26-572b-473c-99a5-87d3bd4156d8",
   "metadata": {},
   "outputs": [],
   "source": [
    "# Production of smaller csv file\n",
    "#df_small_sorted = df_2008_sorted.drop(columns=['SecurityDelay', 'TailNum', 'WeatherDelay', 'TaxiIn', 'TaxiOut', 'ActualElapsedTime', 'AirTime',\n",
    "#                     'CRSArrTime', 'CRSDepTime', 'CRSElapsedTime', 'CancellationCode', 'Cancelled', 'CarrierDelay', \n",
    "#                     'DepDelay', 'DepTime', 'Distance', 'Diverted', 'FlightNum', 'LateAircraftDelay', 'NASDelay', 'Origin'])\n",
    "\n",
    "#df_small_sorted.to_csv(\"2008_sorted_small.csv\",index=False)"
   ]
  }
 ],
 "metadata": {
  "kernelspec": {
   "display_name": "Python 3",
   "language": "python",
   "name": "python3"
  },
  "language_info": {
   "codemirror_mode": {
    "name": "ipython",
    "version": 3
   },
   "file_extension": ".py",
   "mimetype": "text/x-python",
   "name": "python",
   "nbconvert_exporter": "python",
   "pygments_lexer": "ipython3",
   "version": "3.9.4"
  }
 },
 "nbformat": 4,
 "nbformat_minor": 5
}
