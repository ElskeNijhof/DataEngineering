version https://git-lfs.github.com/spec/v1
oid sha256:fcc38eb60489d6ff73cbe44261db0eabe70ab67a1a1dbb2adcb52a2b439e68a7
size 13964
