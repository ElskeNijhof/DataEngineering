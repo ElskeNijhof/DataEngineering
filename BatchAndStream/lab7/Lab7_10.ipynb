{
 "cells": [
  {
   "cell_type": "code",
   "execution_count": 1,
   "id": "e8720a44-948d-4a11-a00b-1049b58f533a",
   "metadata": {},
   "outputs": [
    {
     "name": "stdout",
     "output_type": "stream",
     "text": [
      "root\n",
      " |-- key: binary (nullable = true)\n",
      " |-- value: binary (nullable = true)\n",
      " |-- topic: string (nullable = true)\n",
      " |-- partition: integer (nullable = true)\n",
      " |-- offset: long (nullable = true)\n",
      " |-- timestamp: timestamp (nullable = true)\n",
      " |-- timestampType: integer (nullable = true)\n",
      "\n",
      "+----+--------------------+-----+---------+------+--------------------+-------------+\n",
      "| key|               value|topic|partition|offset|           timestamp|timestampType|\n",
      "+----+--------------------+-----+---------+------+--------------------+-------------+\n",
      "|null|[C3 AF C2 BB C2 B...| word|        0|     0|2021-10-31 10:02:...|            0|\n",
      "|null|                [0A]| word|        0|     1|2021-10-31 10:02:...|            0|\n",
      "|null|[4D 61 6E 79 20 6...| word|        0|     2|2021-10-31 10:02:...|            0|\n",
      "|null|                [0A]| word|        0|     3|2021-10-31 10:02:...|            0|\n",
      "|null|[49 6E 20 61 20 6...| word|        0|     4|2021-10-31 10:02:...|            0|\n",
      "|null|                [0A]| word|        0|     5|2021-10-31 10:02:...|            0|\n",
      "|null|[54 68 65 20 62 6...| word|        0|     6|2021-10-31 10:02:...|            0|\n",
      "|null|                [0A]| word|        0|     7|2021-10-31 10:02:...|            0|\n",
      "|null|[41 73 20 72 65 7...| word|        0|     8|2021-10-31 10:02:...|            0|\n",
      "+----+--------------------+-----+---------+------+--------------------+-------------+\n",
      "\n"
     ]
    }
   ],
   "source": [
    "from pyspark.sql import SparkSession\n",
    "from pyspark import SparkConf\n",
    "\n",
    "sparkConf = SparkConf()\n",
    "sparkConf.setMaster(\"spark://spark-master:7077\")\n",
    "sparkConf.setAppName(\"SparkStreamLab1\")\n",
    "sparkConf.set(\"spark.driver.memory\", \"2g\")\n",
    "sparkConf.set(\"spark.executor.cores\", \"1\")\n",
    "sparkConf.set(\"spark.driver.cores\", \"1\")\n",
    "# create the spark session, which is the entry point to Spark SQL engine.\n",
    "spark = SparkSession.builder.config(conf=sparkConf).getOrCreate()\n",
    "\n",
    "df = spark \\\n",
    "  .read\\\n",
    "  .format(\"kafka\") \\\n",
    "  .option(\"kafka.bootstrap.servers\", \"kafka1:9092\") \\\n",
    "  .option(\"kafka.offsets.topic.replication.factor\", 1) \\\n",
    "  .option(\"subscribe\", \"word\") \\\n",
    "  .load()\n",
    "df.printSchema()\n",
    "\n",
    "df.show()\n"
   ]
  },
  {
   "cell_type": "code",
   "execution_count": null,
   "id": "f6d06d26-572b-473c-99a5-87d3bd4156d8",
   "metadata": {},
   "outputs": [],
   "source": [
    "# Stop the spark context\n",
    "spark.stop()"
   ]
  }
 ],
 "metadata": {
  "kernelspec": {
   "display_name": "Python 3",
   "language": "python",
   "name": "python3"
  },
  "language_info": {
   "codemirror_mode": {
    "name": "ipython",
    "version": 3
   },
   "file_extension": ".py",
   "mimetype": "text/x-python",
   "name": "python",
   "nbconvert_exporter": "python",
   "pygments_lexer": "ipython3",
   "version": "3.9.4"
  }
 },
 "nbformat": 4,
 "nbformat_minor": 5
}
