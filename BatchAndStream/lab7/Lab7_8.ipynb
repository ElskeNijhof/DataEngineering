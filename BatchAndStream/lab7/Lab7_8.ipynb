version https://git-lfs.github.com/spec/v1
oid sha256:1909a8e60ecd97567629bf6f48cd8424c5cd75b1d1a87732ba506b1228583a1b
size 18940
