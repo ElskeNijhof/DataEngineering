{
 "cells": [
  {
   "cell_type": "code",
   "execution_count": 2,
   "id": "256a06e8-5c19-493f-b597-b21467b7d585",
   "metadata": {},
   "outputs": [
    {
     "name": "stdout",
     "output_type": "stream",
     "text": [
      "root\n",
      " |-- product_id: string (nullable = true)\n",
      " |-- time_id: string (nullable = true)\n",
      " |-- customer_id: string (nullable = true)\n",
      " |-- promotion_id: string (nullable = true)\n",
      " |-- store_id: string (nullable = true)\n",
      " |-- store_sales: string (nullable = true)\n",
      " |-- store_cost: string (nullable = true)\n",
      " |-- unit_sales: string (nullable = true)\n",
      "\n",
      "+----------+\n",
      "|unit_sales|\n",
      "+----------+\n",
      "|         2|\n",
      "|         3|\n",
      "|         1|\n",
      "|         3|\n",
      "|         2|\n",
      "|         3|\n",
      "|         2|\n",
      "|         2|\n",
      "|         2|\n",
      "|         1|\n",
      "|         2|\n",
      "|         2|\n",
      "|         2|\n",
      "|         1|\n",
      "|         1|\n",
      "|         2|\n",
      "|         2|\n",
      "|         1|\n",
      "|         3|\n",
      "|         1|\n",
      "+----------+\n",
      "only showing top 20 rows\n",
      "\n",
      "+----------+-------+-----------+------------+--------+-----------+----------+----------+\n",
      "|product_id|time_id|customer_id|promotion_id|store_id|store_sales|store_cost|unit_sales|\n",
      "+----------+-------+-----------+------------+--------+-----------+----------+----------+\n",
      "|       337|    371|       6280|        null|       2|     1.5000|    0.5100|         2|\n",
      "|      1512|    371|       6280|        null|       2|     1.6200|    0.6318|         3|\n",
      "|       963|    371|       4018|        null|       2|     2.4000|    0.7200|         1|\n",
      "|       181|    371|       4018|        null|       2|     2.7900|    1.0323|         3|\n",
      "|      1383|    371|       4018|        null|       2|     5.1800|    2.1756|         2|\n",
      "|      1306|    371|       4018|        null|       2|     7.4100|    2.7417|         3|\n",
      "|      1196|    371|       1418|        null|       2|     5.8400|    1.9856|         2|\n",
      "|       360|    371|       1418|        null|       2|     2.6200|    1.0480|         2|\n",
      "|      1242|    371|       1418|        null|       2|     3.9600|    1.7028|         2|\n",
      "|       154|    371|       1418|        null|       2|     1.9600|    0.7252|         1|\n",
      "|       483|    371|       4382|        null|       2|     3.8800|    1.7072|         2|\n",
      "|        77|    371|       1293|        null|       2|     5.6000|    2.8000|         2|\n",
      "|       533|    371|       1293|        null|       2|     4.8400|    2.3232|         2|\n",
      "|       310|    371|       1293|        null|       2|     0.7600|    0.3420|         1|\n",
      "|      1392|    371|       1293|        null|       2|     0.8300|    0.3735|         1|\n",
      "|      1303|    394|       9305|        null|       2|     1.3600|    0.4352|         2|\n",
      "|       748|    394|       9305|        null|       2|     4.4000|    1.9360|         2|\n",
      "|      1270|    394|       9305|        null|       2|     2.6900|    1.0491|         1|\n",
      "|       311|    394|       5649|        null|       2|     6.4500|    2.3865|         3|\n",
      "|       194|    394|       5649|        null|       2|     3.3600|    1.5120|         1|\n",
      "+----------+-------+-----------+------------+--------+-----------+----------+----------+\n",
      "only showing top 20 rows\n",
      "\n"
     ]
    }
   ],
   "source": [
    "from pyspark.sql import SparkSession\n",
    "from pyspark import SparkConf\n",
    "\n",
    "sparkConf = SparkConf()\n",
    "sparkConf.setMaster(\"spark://spark-master:7077\")\n",
    "sparkConf.setAppName(\"GCSExample\")\n",
    "sparkConf.set(\"spark.driver.memory\", \"2g\")\n",
    "sparkConf.set(\"spark.executor.cores\", \"1\")\n",
    "sparkConf.set(\"spark.driver.cores\", \"1\")\n",
    "# create the spark session, which is the entry point to Spark SQL engine.\n",
    "spark = SparkSession.builder.config(conf=sparkConf).getOrCreate()\n",
    "\n",
    "# Setup hadoop fs configuration for schema gs://\n",
    "conf = spark.sparkContext._jsc.hadoopConfiguration()\n",
    "conf.set(\"fs.gs.impl\", \"com.google.cloud.hadoop.fs.gcs.GoogleHadoopFileSystem\")\n",
    "conf.set(\"fs.AbstractFileSystem.gs.impl\", \"com.google.cloud.hadoop.fs.gcs.GoogleHadoopFS\")\n",
    "\n",
    "#  Google Storage File Path\n",
    "gsc_file_path = 'gs://dejads_input/sales.csv'  #  use your gcp bucket name. Also upload sales.csv first\n",
    "# Create data frame\n",
    "df = spark.read.format(\"csv\").option(\"header\", \"true\") \\\n",
    "       .load(gsc_file_path)\n",
    "df.printSchema()\n",
    "\n",
    "newDf = df.select('unit_sales')  # select one column\n",
    "\n",
    "newDf.show()\n",
    "\n",
    "df.show()"
   ]
  },
  {
   "cell_type": "markdown",
   "id": "5f69c42a-7b8c-4e35-9f3d-d40d8de19214",
   "metadata": {},
   "source": [
    "how many distinct products have been sold in each store? \n"
   ]
  },
  {
   "cell_type": "code",
   "execution_count": 3,
   "id": "fcc8360b-27dc-41b8-95ac-04de84b4f3fa",
   "metadata": {},
   "outputs": [
    {
     "name": "stdout",
     "output_type": "stream",
     "text": [
      "+----------+--------+\n",
      "|product_id|store_id|\n",
      "+----------+--------+\n",
      "|       955|       2|\n",
      "|      1119|       2|\n",
      "+----------+--------+\n",
      "only showing top 2 rows\n",
      "\n"
     ]
    }
   ],
   "source": [
    "dfw = df.select(\"product_id\",\"store_id\").distinct()\n",
    "dfw.show(2)"
   ]
  },
  {
   "cell_type": "code",
   "execution_count": 4,
   "id": "334382e9-d801-4709-a71e-a8de85ce5dae",
   "metadata": {},
   "outputs": [],
   "source": [
    "dfw.write.format(\"csv\").save(\"gs://dejads_output/lab61.csv\") # use correct bucket name"
   ]
  },
  {
   "cell_type": "code",
   "execution_count": 6,
   "id": "aa621131-26cb-48a8-8f6b-6e01934395ae",
   "metadata": {},
   "outputs": [],
   "source": [
    "# Stop the spark context\n",
    "spark.stop()"
   ]
  }
 ],
 "metadata": {
  "kernelspec": {
   "display_name": "Python 3",
   "language": "python",
   "name": "python3"
  },
  "language_info": {
   "codemirror_mode": {
    "name": "ipython",
    "version": 3
   },
   "file_extension": ".py",
   "mimetype": "text/x-python",
   "name": "python",
   "nbconvert_exporter": "python",
   "pygments_lexer": "ipython3",
   "version": "3.9.4"
  }
 },
 "nbformat": 4,
 "nbformat_minor": 5
}
