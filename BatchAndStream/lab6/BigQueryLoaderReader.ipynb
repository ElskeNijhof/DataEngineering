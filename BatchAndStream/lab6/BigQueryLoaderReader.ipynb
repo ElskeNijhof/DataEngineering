version https://git-lfs.github.com/spec/v1
oid sha256:a60f05eb4028e263eff8b04bd332d98d34cde58c9d0caadb17fc49f68621c946
size 20339
