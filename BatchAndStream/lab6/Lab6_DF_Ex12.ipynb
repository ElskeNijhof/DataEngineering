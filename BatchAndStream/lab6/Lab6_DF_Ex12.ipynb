{
 "cells": [
  {
   "cell_type": "code",
   "execution_count": 9,
   "id": "256a06e8-5c19-493f-b597-b21467b7d585",
   "metadata": {},
   "outputs": [
    {
     "name": "stdout",
     "output_type": "stream",
     "text": [
      "root\n",
      " |-- id: string (nullable = true)\n",
      " |-- name: string (nullable = true)\n",
      " |-- address: string (nullable = true)\n",
      " |-- city: string (nullable = true)\n",
      " |-- phone: string (nullable = true)\n",
      " |-- type: string (nullable = true)\n",
      "\n",
      "+---+--------------------+--------------------+-----------+------------+-----------+\n",
      "| id|                name|             address|       city|       phone|       type|\n",
      "+---+--------------------+--------------------+-----------+------------+-----------+\n",
      "|  1|arnie morton's of...|435 s. la cienega...|los angeles|310/246-1501|   american|\n",
      "|  2|arnie morton's of...|435 s. la cienega...|los angeles|310-246-1501|steakhouses|\n",
      "|  3|  art's delicatessen| 12224 ventura blvd.|studio city|818/762-1221|   american|\n",
      "|  4|          art's deli| 12224 ventura blvd.|studio city|818-762-1221|      delis|\n",
      "|  5|       hotel bel-air|701 stone canyon rd.|    bel air|310/472-1211|californian|\n",
      "+---+--------------------+--------------------+-----------+------------+-----------+\n",
      "only showing top 5 rows\n",
      "\n",
      "root\n",
      " |-- rid: long (nullable = true)\n",
      " |-- avg_price: double (nullable = true)\n",
      " |-- rating: double (nullable = true)\n",
      " |-- contact: string (nullable = true)\n",
      "\n",
      "+---+---------+------+-------------------+\n",
      "|rid|avg_price|rating|            contact|\n",
      "+---+---------+------+-------------------+\n",
      "|167|    37.64|   2.0|sdarragh4m@yale.edu|\n",
      "|602|    54.41|   2.0|   abatistegp@51.la|\n",
      "|289|    52.18|  2.25|  cceely80@hibu.com|\n",
      "|338|    98.83|  2.25|mmcerlaine9d@w3.org|\n",
      "+---+---------+------+-------------------+\n",
      "only showing top 4 rows\n",
      "\n"
     ]
    }
   ],
   "source": [
    "from pyspark.sql import SparkSession\n",
    "from pyspark import SparkConf\n",
    "\n",
    "sparkConf = SparkConf()\n",
    "sparkConf.setMaster(\"spark://spark-master:7077\")\n",
    "sparkConf.setAppName(\"Lab6_DF_EX1\")\n",
    "sparkConf.set(\"spark.driver.memory\", \"2g\")\n",
    "sparkConf.set(\"spark.executor.cores\", \"1\")\n",
    "sparkConf.set(\"spark.driver.cores\", \"1\")\n",
    "\n",
    "# create the spark session, which is the entry point to Spark SQL engine.\n",
    "spark = SparkSession.builder.config(conf=sparkConf).getOrCreate()\n",
    "# load data\n",
    "# Setup hadoop fs configuration for schema gs://\n",
    "conf = spark.sparkContext._jsc.hadoopConfiguration()\n",
    "conf.set(\"fs.gs.impl\", \"com.google.cloud.hadoop.fs.gcs.GoogleHadoopFileSystem\")\n",
    "conf.set(\"fs.AbstractFileSystem.gs.impl\", \"com.google.cloud.hadoop.fs.gcs.GoogleHadoopFS\")\n",
    "\n",
    "#  Google Storage File Path\n",
    "gsc_file_path = 'gs://dejads_input/restaurants_geo.csv'  #  use your gcp bucket name. Also upload sales.csv first\n",
    "# Create data frame\n",
    "restaurants_geo_df = spark.read.format(\"csv\").option(\"header\", \"true\").option(\"delimiter\", \";\") \\\n",
    "       .load(gsc_file_path)\n",
    "restaurants_geo_df.printSchema()\n",
    "restaurants_geo_df.show(5)\n",
    "\n",
    "restaurants_df = spark.read \\\n",
    "  .format(\"bigquery\") \\\n",
    "  .load(\"de2021-324520.labdataset.restaurants\")    # project_id.datatset.tablename. Use your project id\n",
    "restaurants_df.printSchema()\n",
    "restaurants_df.show(4)"
   ]
  },
  {
   "cell_type": "markdown",
   "id": "8f37e83b-a341-45f0-b6db-8ad5dc870a43",
   "metadata": {},
   "source": [
    "**Give me the contact details of the cheapest restaurant and the most expensive restaurant in each city of USA**"
   ]
  },
  {
   "cell_type": "code",
   "execution_count": 17,
   "id": "00ec39db-7d3b-440a-b09b-c5bd857b114c",
   "metadata": {},
   "outputs": [
    {
     "name": "stdout",
     "output_type": "stream",
     "text": [
      "+---+--------------------+--------------------+------------+------------+-------------+---------+------+--------------------+\n",
      "| id|                name|             address|        city|       phone|         type|avg_price|rating|             contact|\n",
      "+---+--------------------+--------------------+------------+------------+-------------+---------+------+--------------------+\n",
      "|  1|arnie morton's of...|435 s. la cienega...| los angeles|310/246-1501|     american|    58.98|  2.49|lbuckeridge0@indi...|\n",
      "|  2|arnie morton's of...|435 s. la cienega...| los angeles|310-246-1501|  steakhouses|    60.32|  3.69|wstrickland1@goog...|\n",
      "|  3|  art's delicatessen| 12224 ventura blvd.| studio city|818/762-1221|     american|    61.94|  2.57|smiroy2@delicious...|\n",
      "|  4|          art's deli| 12224 ventura blvd.| studio city|818-762-1221|        delis|    77.15|  4.34|radamoli3@google....|\n",
      "|  5|       hotel bel-air|701 stone canyon rd.|     bel air|310/472-1211|  californian|    36.39|  3.78|  cwiersma4@etsy.com|\n",
      "|  6|       bel-air hotel|701 stone canyon rd.|     bel air|310-472-1211|  californian|    36.03|  3.23|fleteve5@wundergr...|\n",
      "|  7|          cafe bizou| 14016 ventura blvd.|sherman oaks|818/788-3536|       french|    31.24|  3.59|bkoschek6@spiegel.de|\n",
      "|  8|          cafe bizou| 14016 ventura blvd.|sherman oaks|818-788-3536|french bistro|    67.21|  3.69|   llansly7@sohu.com|\n",
      "|  9|           campanile| 624 s. la brea ave.| los angeles|213/938-1447|     american|    37.06|  3.03|bmatton8@edublogs...|\n",
      "| 10|           campanile| 624 s. la brea ave.| los angeles|213-938-1447|  californian|    51.98|  2.15|     bdinis9@fda.gov|\n",
      "+---+--------------------+--------------------+------------+------------+-------------+---------+------+--------------------+\n",
      "only showing top 10 rows\n",
      "\n",
      "+---+--------------------+--------------------+-----------+------------+--------------------+---------+------+--------------------+---------+--------+\n",
      "| id|                name|             address|       city|       phone|                type|avg_price|rating|             contact|rank_desc|rank_asc|\n",
      "+---+--------------------+--------------------+-----------+------------+--------------------+---------+------+--------------------+---------+--------+\n",
      "|673|       john o'groats| 10516 w. pico blvd.|    west la|310-204-0692|        coffee shops|    56.01|  3.33|jdumberellio@post...|        4|       1|\n",
      "|665| feast from the east| 1949 westwood blvd.|    west la|310-475-0400|             chinese|    64.53|  3.09|     jloreitig@de.vu|        1|       4|\n",
      "| 38|        pinot bistro| 12969 ventura blvd.|studio city|818-990-0500|       french bistro|    20.86|  3.49|ccortez11@themefo...|        5|       1|\n",
      "|  4|          art's deli| 12224 ventura blvd.|studio city|818-762-1221|               delis|    77.15|  4.34|radamoli3@google....|        1|       5|\n",
      "|652|           bistro 45|   45 s. mentor ave.|   pasadena|818-795-2478|         californian|    31.01|  2.16|gobradanei3@youku...|        6|       1|\n",
      "|703|         ruby's (la)|45 s. fair oaks ave.|   pasadena|818-796-7829|              diners|     80.5|  1.38|sivanaevji@abouta...|        1|       6|\n",
      "|685|    main course  the| 10509 w. pico blvd.|rancho park|310-475-7564|            american|    34.77|   3.8|   ppersej0@gmpg.org|        1|       1|\n",
      "|409|        lucky strike|59 grand st.  bet...|   new york|212/941-0479|or 212/941-0772 a...|    -4.51|  3.32|   edeardsbc@dot.gov|      250|       1|\n",
      "|433|               palio|    151 w. 51st. st.|   new york|212/245-4850|             italian|   106.79|  3.34|tnewbeginc0@weebl...|        1|     250|\n",
      "|509|french quarter fo...|923 peachtree st....|    atlanta|404/875-2489|            southern|    -2.24|  1.62|cvearnalse4@samsu...|      118|       1|\n",
      "+---+--------------------+--------------------+-----------+------------+--------------------+---------+------+--------------------+---------+--------+\n",
      "only showing top 10 rows\n",
      "\n",
      "+-----------+--------------+---------+--------------------+--------------------+------------+\n",
      "|       city|price_category|avg_price|                name|             contact|       phone|\n",
      "+-----------+--------------+---------+--------------------+--------------------+------------+\n",
      "|    west la|      Cheapest|    56.01|       john o'groats|jdumberellio@post...|310-204-0692|\n",
      "|    west la|Most Expensive|    64.53| feast from the east|     jloreitig@de.vu|310-475-0400|\n",
      "|studio city|      Cheapest|    20.86|        pinot bistro|ccortez11@themefo...|818-990-0500|\n",
      "|studio city|Most Expensive|    77.15|          art's deli|radamoli3@google....|818-762-1221|\n",
      "|   pasadena|      Cheapest|    31.01|           bistro 45|gobradanei3@youku...|818-795-2478|\n",
      "|   pasadena|Most Expensive|     80.5|         ruby's (la)|sivanaevji@abouta...|818-796-7829|\n",
      "|rancho park|Most Expensive|    34.77|    main course  the|   ppersej0@gmpg.org|310-475-7564|\n",
      "|   new york|      Cheapest|    -4.51|        lucky strike|   edeardsbc@dot.gov|212/941-0479|\n",
      "|   new york|Most Expensive|   106.79|               palio|tnewbeginc0@weebl...|212/245-4850|\n",
      "|    atlanta|      Cheapest|    -2.24|french quarter fo...|cvearnalse4@samsu...|404/875-2489|\n",
      "+-----------+--------------+---------+--------------------+--------------------+------------+\n",
      "only showing top 10 rows\n",
      "\n"
     ]
    }
   ],
   "source": [
    "from pyspark.sql.functions import *\n",
    "from pyspark.sql import Row, Window\n",
    "\n",
    "joinExpression = restaurants_geo_df[\"id\"] == restaurants_df['rid']\n",
    "# default join is the inner or left join\n",
    "restaurants_merged = restaurants_geo_df.join(restaurants_df, joinExpression,\"left\").drop(\"rid\")\n",
    "restaurants_merged.show(10)\n",
    "# Rank the resturants in terms of the avg price, per each city. Then, select the best and worst product using ranks\n",
    "windowdesc = Window.partitionBy(col(\"city\")).orderBy(col(\"avg_price\").desc())\n",
    "windowasc = Window.partitionBy(col(\"city\")).orderBy(col(\"avg_price\").asc())\n",
    "\n",
    "restaurants_merged_windowed = restaurants_merged.withColumn(\"rank_desc\", dense_rank().over(windowdesc)).withColumn(\"rank_asc\", dense_rank().over(windowasc))\n",
    "\n",
    "# Get the best and worst performing products\n",
    "cheap_expensive_city_table = restaurants_merged_windowed.where((col(\"rank_desc\") == 1) | (col(\"rank_asc\") == 1) ).select(\"*\")\n",
    "cheap_expensive_city_table.show(10)\n",
    "\n",
    "cheap_expensive_city_table2 = cheap_expensive_city_table.withColumn(\"price_category\", when(col(\"rank_desc\") == 1, \"Most Expensive\")\n",
    "                                                          .otherwise(\"Cheapest\")).select(\"city\", \"price_category\", \"avg_price\", \"name\", \"contact\", \"phone\")\n",
    "cheap_expensive_city_table2.show(10)"
   ]
  },
  {
   "cell_type": "markdown",
   "id": "03cff8f5-329e-44fe-8845-a1dcc29afa65",
   "metadata": {},
   "source": [
    "A useful solution for a common need\n",
    "https://stackoverflow.com/questions/34409875/how-to-get-other-columns-when-using-spark-dataframe-groupby"
   ]
  },
  {
   "cell_type": "code",
   "execution_count": 19,
   "id": "f5be2571-e396-4262-bab1-f6621776bfca",
   "metadata": {},
   "outputs": [],
   "source": [
    "# Use the Cloud Storage bucket for temporary BigQuery export data used by the connector.\n",
    "bucket = \"dejads_temp\"\n",
    "spark.conf.set('temporaryGcsBucket', bucket)\n",
    "# Saving the data to BigQuery\n",
    "cheap_expensive_city_table2.write.format('bigquery') \\\n",
    "  .option('table', 'de2021-324520.labdataset.resturants_selection') \\\n",
    "  #.mode(\"append\") \\\n",
    "  .save()"
   ]
  },
  {
   "cell_type": "code",
   "execution_count": 20,
   "id": "63467e78-23b4-490c-9250-6b64fd2a5214",
   "metadata": {},
   "outputs": [],
   "source": [
    "# Stop the spark context\n",
    "spark.stop()"
   ]
  }
 ],
 "metadata": {
  "kernelspec": {
   "display_name": "Python 3",
   "language": "python",
   "name": "python3"
  },
  "language_info": {
   "codemirror_mode": {
    "name": "ipython",
    "version": 3
   },
   "file_extension": ".py",
   "mimetype": "text/x-python",
   "name": "python",
   "nbconvert_exporter": "python",
   "pygments_lexer": "ipython3",
   "version": "3.9.4"
  }
 },
 "nbformat": 4,
 "nbformat_minor": 5
}
