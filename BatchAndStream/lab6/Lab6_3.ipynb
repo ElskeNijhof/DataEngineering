{
 "cells": [
  {
   "cell_type": "code",
   "execution_count": 36,
   "metadata": {},
   "outputs": [
    {
     "data": {
      "text/plain": [
       "DataFrame[InvoiceNo: string, StockCode: string, Description: string, Quantity: int, InvoiceDate: string, UnitPrice: double, CustomerID: int, Country: string]"
      ]
     },
     "execution_count": 36,
     "metadata": {},
     "output_type": "execute_result"
    }
   ],
   "source": [
    "from pyspark.sql import SparkSession\n",
    "spark = SparkSession.builder.appName(\"SparkAdvancedOps\")\\\n",
    "        .master(\"spark://spark-master:7077\").getOrCreate() \n",
    "df = spark.read.format(\"csv\")\\\n",
    "          .option(\"header\", \"true\")\\\n",
    "          .option(\"inferSchema\", \"true\")\\\n",
    "          .load(\"/home/jovyan/data/online-retail-dataset.csv\")\\\n",
    "          .coalesce(5)\n",
    "df.cache()"
   ]
  },
  {
   "cell_type": "markdown",
   "metadata": {},
   "source": [
    "We can use the function **count** to count the number of items (rows) in a group defined by one or more columns. The function **countDistinct** is for counting the number of distinct items in a group."
   ]
  },
  {
   "cell_type": "code",
   "execution_count": 10,
   "metadata": {},
   "outputs": [
    {
     "name": "stdout",
     "output_type": "stream",
     "text": [
      "+----------------+\n",
      "|count(StockCode)|\n",
      "+----------------+\n",
      "|          541909|\n",
      "+----------------+\n",
      "\n"
     ]
    }
   ],
   "source": [
    "from pyspark.sql.functions import count\n",
    "df.select(count(\"StockCode\")).show()"
   ]
  },
  {
   "cell_type": "code",
   "execution_count": 11,
   "metadata": {},
   "outputs": [
    {
     "name": "stdout",
     "output_type": "stream",
     "text": [
      "+-------------------------+\n",
      "|count(DISTINCT StockCode)|\n",
      "+-------------------------+\n",
      "|                     4070|\n",
      "+-------------------------+\n",
      "\n"
     ]
    }
   ],
   "source": [
    "from pyspark.sql.functions import countDistinct\n",
    "df.select(countDistinct(\"StockCode\")).show()"
   ]
  },
  {
   "cell_type": "markdown",
   "metadata": {},
   "source": [
    "We can also use an approximation of the distinct count. This is efficient compared with counting all. "
   ]
  },
  {
   "cell_type": "code",
   "execution_count": 12,
   "metadata": {},
   "outputs": [
    {
     "name": "stdout",
     "output_type": "stream",
     "text": [
      "+--------------------------------+\n",
      "|approx_count_distinct(StockCode)|\n",
      "+--------------------------------+\n",
      "|                            3364|\n",
      "+--------------------------------+\n",
      "\n"
     ]
    }
   ],
   "source": [
    "from pyspark.sql.functions import approx_count_distinct\n",
    "df.select(approx_count_distinct(\"StockCode\", 0.1)).show()"
   ]
  },
  {
   "cell_type": "markdown",
   "metadata": {},
   "source": [
    "We can also get first, last, minimum, and maximum values from a group (one or more columns) in a DataFrame."
   ]
  },
  {
   "cell_type": "code",
   "execution_count": 13,
   "metadata": {},
   "outputs": [
    {
     "name": "stdout",
     "output_type": "stream",
     "text": [
      "+----------------+---------------+\n",
      "|first(StockCode)|last(StockCode)|\n",
      "+----------------+---------------+\n",
      "|          85123A|          22138|\n",
      "+----------------+---------------+\n",
      "\n",
      "+-------------+-------------+\n",
      "|min(Quantity)|max(Quantity)|\n",
      "+-------------+-------------+\n",
      "|       -80995|        80995|\n",
      "+-------------+-------------+\n",
      "\n"
     ]
    }
   ],
   "source": [
    "from pyspark.sql.functions import first, last, min, max\n",
    "\n",
    "df.select(first(\"StockCode\"), last(\"StockCode\")).show()\n",
    "df.select(min(\"Quantity\"), max(\"Quantity\")).show()"
   ]
  },
  {
   "cell_type": "markdown",
   "metadata": {},
   "source": [
    "We can also compute the sum for each numeric columns for each group."
   ]
  },
  {
   "cell_type": "code",
   "execution_count": 14,
   "metadata": {},
   "outputs": [
    {
     "name": "stdout",
     "output_type": "stream",
     "text": [
      "+-------------+\n",
      "|sum(Quantity)|\n",
      "+-------------+\n",
      "|      5176450|\n",
      "+-------------+\n",
      "\n",
      "+----------------------+\n",
      "|sum(DISTINCT Quantity)|\n",
      "+----------------------+\n",
      "|                 29310|\n",
      "+----------------------+\n",
      "\n"
     ]
    }
   ],
   "source": [
    "from pyspark.sql.functions import sum, sumDistinct\n",
    "\n",
    "df.select(sum(\"Quantity\")).show() \n",
    "df.select(sumDistinct(\"Quantity\")).show() "
   ]
  },
  {
   "cell_type": "markdown",
   "metadata": {},
   "source": [
    "We can also compute average values for each numeric columns for each group. mean() is an alias for avg(). Note that each select clause returns a new data frame. "
   ]
  },
  {
   "cell_type": "code",
   "execution_count": 15,
   "metadata": {
    "scrolled": true
   },
   "outputs": [
    {
     "name": "stdout",
     "output_type": "stream",
     "text": [
      "+--------------------------------------+----------------+----------------+\n",
      "|(total_purchases / total_transactions)|   avg_purchases|  mean_purchases|\n",
      "+--------------------------------------+----------------+----------------+\n",
      "|                      9.55224954743324|9.55224954743324|9.55224954743324|\n",
      "+--------------------------------------+----------------+----------------+\n",
      "\n"
     ]
    }
   ],
   "source": [
    "from pyspark.sql.functions import sum, count, avg, expr\n",
    "\n",
    "df.select(\n",
    "    count(\"Quantity\").alias(\"total_transactions\"),\n",
    "    sum(\"Quantity\").alias(\"total_purchases\"),\n",
    "    avg(\"Quantity\").alias(\"avg_purchases\"),\n",
    "    expr(\"mean(Quantity)\").alias(\"mean_purchases\"))\\\n",
    "  .selectExpr(\n",
    "    \"total_purchases/total_transactions\",\n",
    "    \"avg_purchases\",\n",
    "    \"mean_purchases\").show()"
   ]
  },
  {
   "cell_type": "markdown",
   "metadata": {},
   "source": [
    "Spark has both the formula for the sample standard deviation and the formula for the population standard deviation."
   ]
  },
  {
   "cell_type": "code",
   "execution_count": 17,
   "metadata": {},
   "outputs": [
    {
     "name": "stdout",
     "output_type": "stream",
     "text": [
      "+------------------+------------------+--------------------+---------------------+\n",
      "| var_pop(Quantity)|var_samp(Quantity)|stddev_pop(Quantity)|stddev_samp(Quantity)|\n",
      "+------------------+------------------+--------------------+---------------------+\n",
      "|47559.303646609354| 47559.39140929905|  218.08095663447864|   218.08115785023486|\n",
      "+------------------+------------------+--------------------+---------------------+\n",
      "\n"
     ]
    }
   ],
   "source": [
    "from pyspark.sql.functions import var_pop, stddev_pop\n",
    "from pyspark.sql.functions import var_samp, stddev_samp\n",
    "\n",
    "df.select(var_pop(\"Quantity\"), var_samp(\"Quantity\"),\n",
    "  stddev_pop(\"Quantity\"), stddev_samp(\"Quantity\")).show()"
   ]
  },
  {
   "cell_type": "markdown",
   "metadata": {},
   "source": [
    "Spark has the formula for computing the skewness and kurtosis of the values in a group. Skewness measures the asymmetry of the values in your data around the mean. kurtosis is a measure of the tail of data."
   ]
  },
  {
   "cell_type": "code",
   "execution_count": 18,
   "metadata": {},
   "outputs": [
    {
     "name": "stdout",
     "output_type": "stream",
     "text": [
      "+--------------------+------------------+\n",
      "|  skewness(Quantity)|kurtosis(Quantity)|\n",
      "+--------------------+------------------+\n",
      "|-0.26407557610527843|119768.05495536518|\n",
      "+--------------------+------------------+\n",
      "\n"
     ]
    }
   ],
   "source": [
    "from pyspark.sql.functions import skewness, kurtosis\n",
    "df.select(skewness(\"Quantity\"), kurtosis(\"Quantity\")).show()"
   ]
  },
  {
   "cell_type": "markdown",
   "metadata": {},
   "source": [
    "We can calculate the correlation of two columns of a DataFrame as a double value. Correlation measures the Pearson correlation coefficient, which is scaled between –1 and +1.\n",
    "We can also compute the sample and population covariance of two columns."
   ]
  },
  {
   "cell_type": "code",
   "execution_count": 19,
   "metadata": {},
   "outputs": [
    {
     "name": "stdout",
     "output_type": "stream",
     "text": [
      "+-------------------------+-------------------------------+------------------------------+\n",
      "|corr(InvoiceNo, Quantity)|covar_samp(InvoiceNo, Quantity)|covar_pop(InvoiceNo, Quantity)|\n",
      "+-------------------------+-------------------------------+------------------------------+\n",
      "|     4.912186085637639E-4|             1052.7280543913773|            1052.7260778752732|\n",
      "+-------------------------+-------------------------------+------------------------------+\n",
      "\n"
     ]
    }
   ],
   "source": [
    "from pyspark.sql.functions import corr, covar_pop, covar_samp\n",
    "\n",
    "df.select(corr(\"InvoiceNo\", \"Quantity\"), covar_samp(\"InvoiceNo\", \"Quantity\"),\n",
    "  covar_pop(\"InvoiceNo\", \"Quantity\")).show()"
   ]
  },
  {
   "cell_type": "markdown",
   "metadata": {},
   "source": [
    "We do aggregations on complex types (collection).\n",
    "collect_list- returns a list of objects with duplicates.\n",
    "collect_set - returns a set of objects with duplicate elements eliminated."
   ]
  },
  {
   "cell_type": "code",
   "execution_count": 20,
   "metadata": {},
   "outputs": [
    {
     "name": "stdout",
     "output_type": "stream",
     "text": [
      "+--------------------+---------------------+\n",
      "|collect_set(Country)|collect_list(Country)|\n",
      "+--------------------+---------------------+\n",
      "|[Portugal, Italy,...| [United Kingdom, ...|\n",
      "+--------------------+---------------------+\n",
      "\n"
     ]
    }
   ],
   "source": [
    "from pyspark.sql.functions import collect_set, collect_list\n",
    "\n",
    "df.agg(collect_set(\"Country\"), collect_list(\"Country\")).show(2)"
   ]
  },
  {
   "cell_type": "markdown",
   "metadata": {},
   "source": [
    "We can use the groupby clause (like SQL groupby) to group the data on one or more columns, and perform some calculations on the other columns that end up in that group. "
   ]
  },
  {
   "cell_type": "code",
   "execution_count": 21,
   "metadata": {},
   "outputs": [
    {
     "name": "stdout",
     "output_type": "stream",
     "text": [
      "+---------+----------+-----+\n",
      "|InvoiceNo|CustomerId|count|\n",
      "+---------+----------+-----+\n",
      "|   536846|     14573|   76|\n",
      "|   537026|     12395|   12|\n",
      "|   537883|     14437|    5|\n",
      "|   538068|     17978|   12|\n",
      "|   538279|     14952|    7|\n",
      "|   538800|     16458|   10|\n",
      "|   538942|     17346|   12|\n",
      "|  C539947|     13854|    1|\n",
      "|   540096|     13253|   16|\n",
      "|   540530|     14755|   27|\n",
      "|   541225|     14099|   19|\n",
      "|   541978|     13551|    4|\n",
      "|   542093|     17677|   16|\n",
      "|   543188|     12567|   63|\n",
      "|   543590|     17377|   19|\n",
      "|  C543757|     13115|    1|\n",
      "|  C544318|     12989|    1|\n",
      "|   544578|     12365|    1|\n",
      "|   545165|     16339|   20|\n",
      "|   545289|     14732|   30|\n",
      "+---------+----------+-----+\n",
      "only showing top 20 rows\n",
      "\n"
     ]
    }
   ],
   "source": [
    "df.groupBy(\"InvoiceNo\", \"CustomerId\").count().show()"
   ]
  },
  {
   "cell_type": "markdown",
   "metadata": {},
   "source": [
    "We normally do aggregations over groups. We can pass-in arbitrary expressions with agg function. "
   ]
  },
  {
   "cell_type": "code",
   "execution_count": 22,
   "metadata": {},
   "outputs": [
    {
     "name": "stdout",
     "output_type": "stream",
     "text": [
      "+---------+----+---------------+\n",
      "|InvoiceNo|quan|count(Quantity)|\n",
      "+---------+----+---------------+\n",
      "|   536596|   6|              6|\n",
      "|   536938|  14|             14|\n",
      "|   537252|   1|              1|\n",
      "|   537691|  20|             20|\n",
      "|   538041|   1|              1|\n",
      "|   538184|  26|             26|\n",
      "|   538517|  53|             53|\n",
      "|   538879|  19|             19|\n",
      "|   539275|   6|              6|\n",
      "|   539630|  12|             12|\n",
      "|   540499|  24|             24|\n",
      "|   540540|  22|             22|\n",
      "|  C540850|   1|              1|\n",
      "|   540976|  48|             48|\n",
      "|   541432|   4|              4|\n",
      "|   541518| 101|            101|\n",
      "|   541783|  35|             35|\n",
      "|   542026|   9|              9|\n",
      "|   542375|   6|              6|\n",
      "|  C542604|   8|              8|\n",
      "+---------+----+---------------+\n",
      "only showing top 20 rows\n",
      "\n"
     ]
    }
   ],
   "source": [
    "from pyspark.sql.functions import count\n",
    "\n",
    "df.groupBy(\"InvoiceNo\").agg(\n",
    "  count(\"Quantity\").alias(\"quan\"), # give the column name quan for count values\n",
    "  expr(\"count(Quantity)\")).show()"
   ]
  },
  {
   "cell_type": "code",
   "execution_count": 23,
   "metadata": {},
   "outputs": [
    {
     "name": "stdout",
     "output_type": "stream",
     "text": [
      "+---------+------------------+--------------------+\n",
      "|InvoiceNo|     avg(Quantity)|stddev_pop(Quantity)|\n",
      "+---------+------------------+--------------------+\n",
      "|   536596|               1.5|  1.1180339887498947|\n",
      "|   536938|33.142857142857146|  20.698023172885524|\n",
      "|   537252|              31.0|                 0.0|\n",
      "|   537691|              8.15|   5.597097462078001|\n",
      "|   538041|              30.0|                 0.0|\n",
      "|   538184|12.076923076923077|   8.142590198943392|\n",
      "|   538517|3.0377358490566038|  2.3946659604837897|\n",
      "|   538879|21.157894736842106|  11.811070444356483|\n",
      "|   539275|              26.0|  12.806248474865697|\n",
      "|   539630|20.333333333333332|  10.225241100118645|\n",
      "|   540499|              3.75|  2.6653642652865788|\n",
      "|   540540|2.1363636363636362|  1.0572457590557278|\n",
      "|  C540850|              -1.0|                 0.0|\n",
      "|   540976|10.520833333333334|   6.496760677872902|\n",
      "|   541432|             12.25|  10.825317547305483|\n",
      "|   541518| 23.10891089108911|  20.550782784878713|\n",
      "|   541783|11.314285714285715|   8.467657556242811|\n",
      "|   542026| 7.666666666666667|   4.853406592853679|\n",
      "|   542375|               8.0|  3.4641016151377544|\n",
      "|  C542604|              -8.0|  15.173990905493518|\n",
      "+---------+------------------+--------------------+\n",
      "only showing top 20 rows\n",
      "\n"
     ]
    }
   ],
   "source": [
    "df.groupBy(\"InvoiceNo\").agg(expr(\"avg(Quantity)\"),expr(\"stddev_pop(Quantity)\"))\\\n",
    ".show()"
   ]
  },
  {
   "cell_type": "markdown",
   "metadata": {},
   "source": [
    "**Window Functions**\n",
    "\n",
    "We can use window functions to carry out some unique aggregations by either computing some aggregation on a specific “window” of data. A window function calculates a return value for every input row of a table based on a group of rows, called a frame. Each row can fall into one or more frames. A common use case is to take a look at a rolling average of some value for which each row represents one day. Each row would end up in seven different frames.\n",
    "\n",
    "The first step to define the window. We can use Window class, which has three methods.\n",
    "partitionBy(*cols) - divide into groups\n",
    "orderBy(*cols) - ordering within the group\n",
    "rowsBetween(start, end) - the frame specification (the rowsBetween statement) states which rows will be included in the frame. In the following examole, all previous rows up to the current row."
   ]
  },
  {
   "cell_type": "code",
   "execution_count": 24,
   "metadata": {
    "tags": []
   },
   "outputs": [],
   "source": [
    "from pyspark.sql.functions import col, to_date\n",
    "from pyspark.sql.window import Window\n",
    "from pyspark.sql.functions import desc\n",
    "\n",
    "dfWithDate = df.withColumn(\"date\", to_date(col(\"InvoiceDate\"), \"M/d/y H:mm\")) # our dataframe with date column\n",
    "\n",
    "windowSpec = Window\\\n",
    "  .partitionBy(\"CustomerId\", \"date\")\\\n",
    "  .orderBy(desc(\"Quantity\"))\\\n",
    "  .rowsBetween(Window.unboundedPreceding, Window.currentRow)"
   ]
  },
  {
   "cell_type": "markdown",
   "metadata": {},
   "source": [
    "Now, we can apply window functions over the defined window. Spark supports three kinds of window functions: ranking functions, analytic functions, and aggregate functions. Let’s consider the following example.\n",
    "An aggregate function - find the maximum purchase quantity over all time\n",
    "A ranking function - determine which date had the maximum purchase quantity for every customer."
   ]
  },
  {
   "cell_type": "code",
   "execution_count": 25,
   "metadata": {},
   "outputs": [],
   "source": [
    "from pyspark.sql.functions import max, dense_rank, rank\n",
    "\n",
    "maxPurchaseQuantity = max(col(\"Quantity\")).over(windowSpec)\n",
    "purchaseDenseRank = dense_rank().over(windowSpec)\n",
    "purchaseRank = rank().over(windowSpec)\n"
   ]
  },
  {
   "cell_type": "markdown",
   "metadata": {},
   "source": [
    "The above functions return columns (or expressions), which can be used in a DataFrame select statement"
   ]
  },
  {
   "cell_type": "code",
   "execution_count": 26,
   "metadata": {},
   "outputs": [
    {
     "name": "stdout",
     "output_type": "stream",
     "text": [
      "+----------+----------+--------+------------+-----------------+-------------------+\n",
      "|CustomerId|      date|Quantity|quantityRank|quantityDenseRank|maxPurchaseQuantity|\n",
      "+----------+----------+--------+------------+-----------------+-------------------+\n",
      "|     12346|2011-01-18|   74215|           1|                1|              74215|\n",
      "|     12346|2011-01-18|  -74215|           2|                2|              74215|\n",
      "|     12347|2010-12-07|      36|           1|                1|                 36|\n",
      "|     12347|2010-12-07|      30|           2|                2|                 36|\n",
      "|     12347|2010-12-07|      24|           3|                3|                 36|\n",
      "|     12347|2010-12-07|      12|           4|                4|                 36|\n",
      "|     12347|2010-12-07|      12|           4|                4|                 36|\n",
      "|     12347|2010-12-07|      12|           4|                4|                 36|\n",
      "|     12347|2010-12-07|      12|           4|                4|                 36|\n",
      "|     12347|2010-12-07|      12|           4|                4|                 36|\n",
      "|     12347|2010-12-07|      12|           4|                4|                 36|\n",
      "|     12347|2010-12-07|      12|           4|                4|                 36|\n",
      "|     12347|2010-12-07|      12|           4|                4|                 36|\n",
      "|     12347|2010-12-07|      12|           4|                4|                 36|\n",
      "|     12347|2010-12-07|      12|           4|                4|                 36|\n",
      "|     12347|2010-12-07|      12|           4|                4|                 36|\n",
      "|     12347|2010-12-07|      12|           4|                4|                 36|\n",
      "|     12347|2010-12-07|      12|           4|                4|                 36|\n",
      "|     12347|2010-12-07|       6|          17|                5|                 36|\n",
      "|     12347|2010-12-07|       6|          17|                5|                 36|\n",
      "+----------+----------+--------+------------+-----------------+-------------------+\n",
      "only showing top 20 rows\n",
      "\n"
     ]
    }
   ],
   "source": [
    "dfWithDate.where(\"CustomerId IS NOT NULL\").orderBy(\"CustomerId\")\\\n",
    "  .select(\n",
    "    col(\"CustomerId\"),\n",
    "    col(\"date\"),\n",
    "    col(\"Quantity\"),\n",
    "    purchaseRank.alias(\"quantityRank\"),\n",
    "    purchaseDenseRank.alias(\"quantityDenseRank\"),\n",
    "    maxPurchaseQuantity.alias(\"maxPurchaseQuantity\")).show()"
   ]
  },
  {
   "cell_type": "markdown",
   "metadata": {},
   "source": [
    "We can use grouping sets for aggregations across multiple groups. With Dataframe, we have to use the rollup and cube operators for implementing grouping sets.\n",
    "\n",
    "Grouping sets depend on null values for aggregation levels. If you do not filter-out null values, you will get incorrect results. This applies to cubes, rollups, and grouping sets.\n",
    "\n",
    "With the rollup function, we can create a multi-dimensional rollup for the current DataFrame using the specified columns, so we can run aggregation on them.\n",
    "\n",
    "The following rollup looks across time (with our new Date column) and space (with the Country column) and creates a new DataFrame that includes the grand total over all dates, the grand total for each date in the DataFrame, and the subtotal for each country on each date in the DataFrame."
   ]
  },
  {
   "cell_type": "code",
   "execution_count": 28,
   "metadata": {},
   "outputs": [
    {
     "name": "stdout",
     "output_type": "stream",
     "text": [
      "+----------+--------------+--------------+\n",
      "|      Date|       Country|total_quantity|\n",
      "+----------+--------------+--------------+\n",
      "|      null|          null|       5176450|\n",
      "|2010-12-01|       Germany|           117|\n",
      "|2010-12-01|        France|           449|\n",
      "|2010-12-01|     Australia|           107|\n",
      "|2010-12-01|United Kingdom|         23949|\n",
      "|2010-12-01|        Norway|          1852|\n",
      "|2010-12-01|          null|         26814|\n",
      "|2010-12-01|          EIRE|           243|\n",
      "|2010-12-01|   Netherlands|            97|\n",
      "|2010-12-02|       Germany|           146|\n",
      "|2010-12-02|          EIRE|             4|\n",
      "|2010-12-02|          null|         21023|\n",
      "|2010-12-02|United Kingdom|         20873|\n",
      "|2010-12-03|         Spain|           400|\n",
      "|2010-12-03|        France|           239|\n",
      "|2010-12-03|       Germany|           170|\n",
      "|2010-12-03|   Switzerland|           110|\n",
      "|2010-12-03|United Kingdom|         10439|\n",
      "|2010-12-03|          EIRE|          2575|\n",
      "|2010-12-03|      Portugal|            65|\n",
      "+----------+--------------+--------------+\n",
      "only showing top 20 rows\n",
      "\n"
     ]
    }
   ],
   "source": [
    "dfNoNull = dfWithDate.drop()\n",
    "rolledUpDF = dfNoNull.rollup(\"Date\", \"Country\").agg(sum(\"Quantity\"))\\\n",
    ".selectExpr(\"Date\", \"Country\", \"`sum(Quantity)` as total_quantity\")\\\n",
    ".orderBy(\"Date\")\n",
    "rolledUpDF.show()"
   ]
  },
  {
   "cell_type": "markdown",
   "metadata": {},
   "source": [
    "A cube does the rollups across all dimensions. It takes a list of grouping columns and applies aggregate expressions to all possible combinations of them. "
   ]
  },
  {
   "cell_type": "code",
   "execution_count": 29,
   "metadata": {},
   "outputs": [
    {
     "name": "stdout",
     "output_type": "stream",
     "text": [
      "+----+--------------------+-------------+\n",
      "|Date|             Country|sum(Quantity)|\n",
      "+----+--------------------+-------------+\n",
      "|null|             Denmark|         8188|\n",
      "|null|             Lebanon|          386|\n",
      "|null|              Canada|         2763|\n",
      "|null|              Sweden|        35637|\n",
      "|null|               Japan|        25218|\n",
      "|null|      United Kingdom|      4263829|\n",
      "|null|              Greece|         1556|\n",
      "|null|             Germany|       117448|\n",
      "|null|      Czech Republic|          592|\n",
      "|null|              France|       110480|\n",
      "|null|               Italy|         7999|\n",
      "|null|              Poland|         3653|\n",
      "|null|                 USA|         1034|\n",
      "|null|United Arab Emirates|          982|\n",
      "|null|             Iceland|         2458|\n",
      "|null|           Singapore|         5234|\n",
      "|null|           Lithuania|          652|\n",
      "|null|               Malta|          944|\n",
      "|null|  European Community|          497|\n",
      "|null|             Finland|        10666|\n",
      "+----+--------------------+-------------+\n",
      "only showing top 20 rows\n",
      "\n"
     ]
    }
   ],
   "source": [
    "dfNoNull.cube(\"Date\", \"Country\").agg(sum(col(\"Quantity\")))\\\n",
    ".select(\"Date\", \"Country\", \"sum(Quantity)\").orderBy(\"Date\").show()"
   ]
  },
  {
   "cell_type": "markdown",
   "metadata": {},
   "source": [
    "Pivots a column of the current DataFrame and perform the specified aggregation. We can convert the distinct values in a row into columns with Pivot.\n",
    "\n",
    "In the following example, DataFrame will now have a column for every combination of unique country name, numeric variable, and a column specifying the date. For example, for USA, we have the following columns: USA_sum(Quantity), USA_sum(UnitPrice), USA_sum(CustomerID). This represents one for each numeric column in our dataset (because we just performed an aggregation (sum) over all of them)."
   ]
  },
  {
   "cell_type": "code",
   "execution_count": 33,
   "metadata": {},
   "outputs": [
    {
     "name": "stdout",
     "output_type": "stream",
     "text": [
      "root\n",
      " |-- date: date (nullable = true)\n",
      " |-- Australia_sum(CAST(Quantity AS BIGINT)): long (nullable = true)\n",
      " |-- Australia_sum(UnitPrice): double (nullable = true)\n",
      " |-- Australia_sum(CAST(CustomerID AS BIGINT)): long (nullable = true)\n",
      " |-- Austria_sum(CAST(Quantity AS BIGINT)): long (nullable = true)\n",
      " |-- Austria_sum(UnitPrice): double (nullable = true)\n",
      " |-- Austria_sum(CAST(CustomerID AS BIGINT)): long (nullable = true)\n",
      " |-- Bahrain_sum(CAST(Quantity AS BIGINT)): long (nullable = true)\n",
      " |-- Bahrain_sum(UnitPrice): double (nullable = true)\n",
      " |-- Bahrain_sum(CAST(CustomerID AS BIGINT)): long (nullable = true)\n",
      " |-- Belgium_sum(CAST(Quantity AS BIGINT)): long (nullable = true)\n",
      " |-- Belgium_sum(UnitPrice): double (nullable = true)\n",
      " |-- Belgium_sum(CAST(CustomerID AS BIGINT)): long (nullable = true)\n",
      " |-- Brazil_sum(CAST(Quantity AS BIGINT)): long (nullable = true)\n",
      " |-- Brazil_sum(UnitPrice): double (nullable = true)\n",
      " |-- Brazil_sum(CAST(CustomerID AS BIGINT)): long (nullable = true)\n",
      " |-- Canada_sum(CAST(Quantity AS BIGINT)): long (nullable = true)\n",
      " |-- Canada_sum(UnitPrice): double (nullable = true)\n",
      " |-- Canada_sum(CAST(CustomerID AS BIGINT)): long (nullable = true)\n",
      " |-- Channel Islands_sum(CAST(Quantity AS BIGINT)): long (nullable = true)\n",
      " |-- Channel Islands_sum(UnitPrice): double (nullable = true)\n",
      " |-- Channel Islands_sum(CAST(CustomerID AS BIGINT)): long (nullable = true)\n",
      " |-- Cyprus_sum(CAST(Quantity AS BIGINT)): long (nullable = true)\n",
      " |-- Cyprus_sum(UnitPrice): double (nullable = true)\n",
      " |-- Cyprus_sum(CAST(CustomerID AS BIGINT)): long (nullable = true)\n",
      " |-- Czech Republic_sum(CAST(Quantity AS BIGINT)): long (nullable = true)\n",
      " |-- Czech Republic_sum(UnitPrice): double (nullable = true)\n",
      " |-- Czech Republic_sum(CAST(CustomerID AS BIGINT)): long (nullable = true)\n",
      " |-- Denmark_sum(CAST(Quantity AS BIGINT)): long (nullable = true)\n",
      " |-- Denmark_sum(UnitPrice): double (nullable = true)\n",
      " |-- Denmark_sum(CAST(CustomerID AS BIGINT)): long (nullable = true)\n",
      " |-- EIRE_sum(CAST(Quantity AS BIGINT)): long (nullable = true)\n",
      " |-- EIRE_sum(UnitPrice): double (nullable = true)\n",
      " |-- EIRE_sum(CAST(CustomerID AS BIGINT)): long (nullable = true)\n",
      " |-- European Community_sum(CAST(Quantity AS BIGINT)): long (nullable = true)\n",
      " |-- European Community_sum(UnitPrice): double (nullable = true)\n",
      " |-- European Community_sum(CAST(CustomerID AS BIGINT)): long (nullable = true)\n",
      " |-- Finland_sum(CAST(Quantity AS BIGINT)): long (nullable = true)\n",
      " |-- Finland_sum(UnitPrice): double (nullable = true)\n",
      " |-- Finland_sum(CAST(CustomerID AS BIGINT)): long (nullable = true)\n",
      " |-- France_sum(CAST(Quantity AS BIGINT)): long (nullable = true)\n",
      " |-- France_sum(UnitPrice): double (nullable = true)\n",
      " |-- France_sum(CAST(CustomerID AS BIGINT)): long (nullable = true)\n",
      " |-- Germany_sum(CAST(Quantity AS BIGINT)): long (nullable = true)\n",
      " |-- Germany_sum(UnitPrice): double (nullable = true)\n",
      " |-- Germany_sum(CAST(CustomerID AS BIGINT)): long (nullable = true)\n",
      " |-- Greece_sum(CAST(Quantity AS BIGINT)): long (nullable = true)\n",
      " |-- Greece_sum(UnitPrice): double (nullable = true)\n",
      " |-- Greece_sum(CAST(CustomerID AS BIGINT)): long (nullable = true)\n",
      " |-- Hong Kong_sum(CAST(Quantity AS BIGINT)): long (nullable = true)\n",
      " |-- Hong Kong_sum(UnitPrice): double (nullable = true)\n",
      " |-- Hong Kong_sum(CAST(CustomerID AS BIGINT)): long (nullable = true)\n",
      " |-- Iceland_sum(CAST(Quantity AS BIGINT)): long (nullable = true)\n",
      " |-- Iceland_sum(UnitPrice): double (nullable = true)\n",
      " |-- Iceland_sum(CAST(CustomerID AS BIGINT)): long (nullable = true)\n",
      " |-- Israel_sum(CAST(Quantity AS BIGINT)): long (nullable = true)\n",
      " |-- Israel_sum(UnitPrice): double (nullable = true)\n",
      " |-- Israel_sum(CAST(CustomerID AS BIGINT)): long (nullable = true)\n",
      " |-- Italy_sum(CAST(Quantity AS BIGINT)): long (nullable = true)\n",
      " |-- Italy_sum(UnitPrice): double (nullable = true)\n",
      " |-- Italy_sum(CAST(CustomerID AS BIGINT)): long (nullable = true)\n",
      " |-- Japan_sum(CAST(Quantity AS BIGINT)): long (nullable = true)\n",
      " |-- Japan_sum(UnitPrice): double (nullable = true)\n",
      " |-- Japan_sum(CAST(CustomerID AS BIGINT)): long (nullable = true)\n",
      " |-- Lebanon_sum(CAST(Quantity AS BIGINT)): long (nullable = true)\n",
      " |-- Lebanon_sum(UnitPrice): double (nullable = true)\n",
      " |-- Lebanon_sum(CAST(CustomerID AS BIGINT)): long (nullable = true)\n",
      " |-- Lithuania_sum(CAST(Quantity AS BIGINT)): long (nullable = true)\n",
      " |-- Lithuania_sum(UnitPrice): double (nullable = true)\n",
      " |-- Lithuania_sum(CAST(CustomerID AS BIGINT)): long (nullable = true)\n",
      " |-- Malta_sum(CAST(Quantity AS BIGINT)): long (nullable = true)\n",
      " |-- Malta_sum(UnitPrice): double (nullable = true)\n",
      " |-- Malta_sum(CAST(CustomerID AS BIGINT)): long (nullable = true)\n",
      " |-- Netherlands_sum(CAST(Quantity AS BIGINT)): long (nullable = true)\n",
      " |-- Netherlands_sum(UnitPrice): double (nullable = true)\n",
      " |-- Netherlands_sum(CAST(CustomerID AS BIGINT)): long (nullable = true)\n",
      " |-- Norway_sum(CAST(Quantity AS BIGINT)): long (nullable = true)\n",
      " |-- Norway_sum(UnitPrice): double (nullable = true)\n",
      " |-- Norway_sum(CAST(CustomerID AS BIGINT)): long (nullable = true)\n",
      " |-- Poland_sum(CAST(Quantity AS BIGINT)): long (nullable = true)\n",
      " |-- Poland_sum(UnitPrice): double (nullable = true)\n",
      " |-- Poland_sum(CAST(CustomerID AS BIGINT)): long (nullable = true)\n",
      " |-- Portugal_sum(CAST(Quantity AS BIGINT)): long (nullable = true)\n",
      " |-- Portugal_sum(UnitPrice): double (nullable = true)\n",
      " |-- Portugal_sum(CAST(CustomerID AS BIGINT)): long (nullable = true)\n",
      " |-- RSA_sum(CAST(Quantity AS BIGINT)): long (nullable = true)\n",
      " |-- RSA_sum(UnitPrice): double (nullable = true)\n",
      " |-- RSA_sum(CAST(CustomerID AS BIGINT)): long (nullable = true)\n",
      " |-- Saudi Arabia_sum(CAST(Quantity AS BIGINT)): long (nullable = true)\n",
      " |-- Saudi Arabia_sum(UnitPrice): double (nullable = true)\n",
      " |-- Saudi Arabia_sum(CAST(CustomerID AS BIGINT)): long (nullable = true)\n",
      " |-- Singapore_sum(CAST(Quantity AS BIGINT)): long (nullable = true)\n",
      " |-- Singapore_sum(UnitPrice): double (nullable = true)\n",
      " |-- Singapore_sum(CAST(CustomerID AS BIGINT)): long (nullable = true)\n",
      " |-- Spain_sum(CAST(Quantity AS BIGINT)): long (nullable = true)\n",
      " |-- Spain_sum(UnitPrice): double (nullable = true)\n",
      " |-- Spain_sum(CAST(CustomerID AS BIGINT)): long (nullable = true)\n",
      " |-- Sweden_sum(CAST(Quantity AS BIGINT)): long (nullable = true)\n",
      " |-- Sweden_sum(UnitPrice): double (nullable = true)\n",
      " |-- Sweden_sum(CAST(CustomerID AS BIGINT)): long (nullable = true)\n",
      " |-- Switzerland_sum(CAST(Quantity AS BIGINT)): long (nullable = true)\n",
      " |-- Switzerland_sum(UnitPrice): double (nullable = true)\n",
      " |-- Switzerland_sum(CAST(CustomerID AS BIGINT)): long (nullable = true)\n",
      " |-- USA_sum(CAST(Quantity AS BIGINT)): long (nullable = true)\n",
      " |-- USA_sum(UnitPrice): double (nullable = true)\n",
      " |-- USA_sum(CAST(CustomerID AS BIGINT)): long (nullable = true)\n",
      " |-- United Arab Emirates_sum(CAST(Quantity AS BIGINT)): long (nullable = true)\n",
      " |-- United Arab Emirates_sum(UnitPrice): double (nullable = true)\n",
      " |-- United Arab Emirates_sum(CAST(CustomerID AS BIGINT)): long (nullable = true)\n",
      " |-- United Kingdom_sum(CAST(Quantity AS BIGINT)): long (nullable = true)\n",
      " |-- United Kingdom_sum(UnitPrice): double (nullable = true)\n",
      " |-- United Kingdom_sum(CAST(CustomerID AS BIGINT)): long (nullable = true)\n",
      " |-- Unspecified_sum(CAST(Quantity AS BIGINT)): long (nullable = true)\n",
      " |-- Unspecified_sum(UnitPrice): double (nullable = true)\n",
      " |-- Unspecified_sum(CAST(CustomerID AS BIGINT)): long (nullable = true)\n",
      "\n",
      "+----------+---------------------------------------+------------------------+-----------------------------------------+-------------------------------------+----------------------+---------------------------------------+-------------------------------------+----------------------+---------------------------------------+-------------------------------------+----------------------+---------------------------------------+------------------------------------+---------------------+--------------------------------------+------------------------------------+---------------------+--------------------------------------+---------------------------------------------+------------------------------+-----------------------------------------------+------------------------------------+---------------------+--------------------------------------+--------------------------------------------+-----------------------------+----------------------------------------------+-------------------------------------+----------------------+---------------------------------------+----------------------------------+-------------------+------------------------------------+------------------------------------------------+---------------------------------+--------------------------------------------------+-------------------------------------+----------------------+---------------------------------------+------------------------------------+---------------------+--------------------------------------+-------------------------------------+----------------------+---------------------------------------+------------------------------------+---------------------+--------------------------------------+---------------------------------------+------------------------+-----------------------------------------+-------------------------------------+----------------------+---------------------------------------+------------------------------------+---------------------+--------------------------------------+-----------------------------------+--------------------+-------------------------------------+-----------------------------------+--------------------+-------------------------------------+-------------------------------------+----------------------+---------------------------------------+---------------------------------------+------------------------+-----------------------------------------+-----------------------------------+--------------------+-------------------------------------+-----------------------------------------+--------------------------+-------------------------------------------+------------------------------------+---------------------+--------------------------------------+------------------------------------+---------------------+--------------------------------------+--------------------------------------+-----------------------+----------------------------------------+---------------------------------+------------------+-----------------------------------+------------------------------------------+---------------------------+--------------------------------------------+---------------------------------------+------------------------+-----------------------------------------+-----------------------------------+--------------------+-------------------------------------+------------------------------------+---------------------+--------------------------------------+-----------------------------------------+--------------------------+-------------------------------------------+---------------------------------+------------------+-----------------------------------+--------------------------------------------------+-----------------------------------+----------------------------------------------------+--------------------------------------------+-----------------------------+----------------------------------------------+-----------------------------------------+--------------------------+-------------------------------------------+\n",
      "|      date|Australia_sum(CAST(Quantity AS BIGINT))|Australia_sum(UnitPrice)|Australia_sum(CAST(CustomerID AS BIGINT))|Austria_sum(CAST(Quantity AS BIGINT))|Austria_sum(UnitPrice)|Austria_sum(CAST(CustomerID AS BIGINT))|Bahrain_sum(CAST(Quantity AS BIGINT))|Bahrain_sum(UnitPrice)|Bahrain_sum(CAST(CustomerID AS BIGINT))|Belgium_sum(CAST(Quantity AS BIGINT))|Belgium_sum(UnitPrice)|Belgium_sum(CAST(CustomerID AS BIGINT))|Brazil_sum(CAST(Quantity AS BIGINT))|Brazil_sum(UnitPrice)|Brazil_sum(CAST(CustomerID AS BIGINT))|Canada_sum(CAST(Quantity AS BIGINT))|Canada_sum(UnitPrice)|Canada_sum(CAST(CustomerID AS BIGINT))|Channel Islands_sum(CAST(Quantity AS BIGINT))|Channel Islands_sum(UnitPrice)|Channel Islands_sum(CAST(CustomerID AS BIGINT))|Cyprus_sum(CAST(Quantity AS BIGINT))|Cyprus_sum(UnitPrice)|Cyprus_sum(CAST(CustomerID AS BIGINT))|Czech Republic_sum(CAST(Quantity AS BIGINT))|Czech Republic_sum(UnitPrice)|Czech Republic_sum(CAST(CustomerID AS BIGINT))|Denmark_sum(CAST(Quantity AS BIGINT))|Denmark_sum(UnitPrice)|Denmark_sum(CAST(CustomerID AS BIGINT))|EIRE_sum(CAST(Quantity AS BIGINT))|EIRE_sum(UnitPrice)|EIRE_sum(CAST(CustomerID AS BIGINT))|European Community_sum(CAST(Quantity AS BIGINT))|European Community_sum(UnitPrice)|European Community_sum(CAST(CustomerID AS BIGINT))|Finland_sum(CAST(Quantity AS BIGINT))|Finland_sum(UnitPrice)|Finland_sum(CAST(CustomerID AS BIGINT))|France_sum(CAST(Quantity AS BIGINT))|France_sum(UnitPrice)|France_sum(CAST(CustomerID AS BIGINT))|Germany_sum(CAST(Quantity AS BIGINT))|Germany_sum(UnitPrice)|Germany_sum(CAST(CustomerID AS BIGINT))|Greece_sum(CAST(Quantity AS BIGINT))|Greece_sum(UnitPrice)|Greece_sum(CAST(CustomerID AS BIGINT))|Hong Kong_sum(CAST(Quantity AS BIGINT))|Hong Kong_sum(UnitPrice)|Hong Kong_sum(CAST(CustomerID AS BIGINT))|Iceland_sum(CAST(Quantity AS BIGINT))|Iceland_sum(UnitPrice)|Iceland_sum(CAST(CustomerID AS BIGINT))|Israel_sum(CAST(Quantity AS BIGINT))|Israel_sum(UnitPrice)|Israel_sum(CAST(CustomerID AS BIGINT))|Italy_sum(CAST(Quantity AS BIGINT))|Italy_sum(UnitPrice)|Italy_sum(CAST(CustomerID AS BIGINT))|Japan_sum(CAST(Quantity AS BIGINT))|Japan_sum(UnitPrice)|Japan_sum(CAST(CustomerID AS BIGINT))|Lebanon_sum(CAST(Quantity AS BIGINT))|Lebanon_sum(UnitPrice)|Lebanon_sum(CAST(CustomerID AS BIGINT))|Lithuania_sum(CAST(Quantity AS BIGINT))|Lithuania_sum(UnitPrice)|Lithuania_sum(CAST(CustomerID AS BIGINT))|Malta_sum(CAST(Quantity AS BIGINT))|Malta_sum(UnitPrice)|Malta_sum(CAST(CustomerID AS BIGINT))|Netherlands_sum(CAST(Quantity AS BIGINT))|Netherlands_sum(UnitPrice)|Netherlands_sum(CAST(CustomerID AS BIGINT))|Norway_sum(CAST(Quantity AS BIGINT))|Norway_sum(UnitPrice)|Norway_sum(CAST(CustomerID AS BIGINT))|Poland_sum(CAST(Quantity AS BIGINT))|Poland_sum(UnitPrice)|Poland_sum(CAST(CustomerID AS BIGINT))|Portugal_sum(CAST(Quantity AS BIGINT))|Portugal_sum(UnitPrice)|Portugal_sum(CAST(CustomerID AS BIGINT))|RSA_sum(CAST(Quantity AS BIGINT))|RSA_sum(UnitPrice)|RSA_sum(CAST(CustomerID AS BIGINT))|Saudi Arabia_sum(CAST(Quantity AS BIGINT))|Saudi Arabia_sum(UnitPrice)|Saudi Arabia_sum(CAST(CustomerID AS BIGINT))|Singapore_sum(CAST(Quantity AS BIGINT))|Singapore_sum(UnitPrice)|Singapore_sum(CAST(CustomerID AS BIGINT))|Spain_sum(CAST(Quantity AS BIGINT))|Spain_sum(UnitPrice)|Spain_sum(CAST(CustomerID AS BIGINT))|Sweden_sum(CAST(Quantity AS BIGINT))|Sweden_sum(UnitPrice)|Sweden_sum(CAST(CustomerID AS BIGINT))|Switzerland_sum(CAST(Quantity AS BIGINT))|Switzerland_sum(UnitPrice)|Switzerland_sum(CAST(CustomerID AS BIGINT))|USA_sum(CAST(Quantity AS BIGINT))|USA_sum(UnitPrice)|USA_sum(CAST(CustomerID AS BIGINT))|United Arab Emirates_sum(CAST(Quantity AS BIGINT))|United Arab Emirates_sum(UnitPrice)|United Arab Emirates_sum(CAST(CustomerID AS BIGINT))|United Kingdom_sum(CAST(Quantity AS BIGINT))|United Kingdom_sum(UnitPrice)|United Kingdom_sum(CAST(CustomerID AS BIGINT))|Unspecified_sum(CAST(Quantity AS BIGINT))|Unspecified_sum(UnitPrice)|Unspecified_sum(CAST(CustomerID AS BIGINT))|\n",
      "+----------+---------------------------------------+------------------------+-----------------------------------------+-------------------------------------+----------------------+---------------------------------------+-------------------------------------+----------------------+---------------------------------------+-------------------------------------+----------------------+---------------------------------------+------------------------------------+---------------------+--------------------------------------+------------------------------------+---------------------+--------------------------------------+---------------------------------------------+------------------------------+-----------------------------------------------+------------------------------------+---------------------+--------------------------------------+--------------------------------------------+-----------------------------+----------------------------------------------+-------------------------------------+----------------------+---------------------------------------+----------------------------------+-------------------+------------------------------------+------------------------------------------------+---------------------------------+--------------------------------------------------+-------------------------------------+----------------------+---------------------------------------+------------------------------------+---------------------+--------------------------------------+-------------------------------------+----------------------+---------------------------------------+------------------------------------+---------------------+--------------------------------------+---------------------------------------+------------------------+-----------------------------------------+-------------------------------------+----------------------+---------------------------------------+------------------------------------+---------------------+--------------------------------------+-----------------------------------+--------------------+-------------------------------------+-----------------------------------+--------------------+-------------------------------------+-------------------------------------+----------------------+---------------------------------------+---------------------------------------+------------------------+-----------------------------------------+-----------------------------------+--------------------+-------------------------------------+-----------------------------------------+--------------------------+-------------------------------------------+------------------------------------+---------------------+--------------------------------------+------------------------------------+---------------------+--------------------------------------+--------------------------------------+-----------------------+----------------------------------------+---------------------------------+------------------+-----------------------------------+------------------------------------------+---------------------------+--------------------------------------------+---------------------------------------+------------------------+-----------------------------------------+-----------------------------------+--------------------+-------------------------------------+------------------------------------+---------------------+--------------------------------------+-----------------------------------------+--------------------------+-------------------------------------------+---------------------------------+------------------+-----------------------------------+--------------------------------------------------+-----------------------------------+----------------------------------------------------+--------------------------------------------+-----------------------------+----------------------------------------------+-----------------------------------------+--------------------------+-------------------------------------------+\n",
      "|2011-10-07|                                   null|                    null|                                     null|                                 null|                  null|                                   null|                                 null|                  null|                                   null|                                 null|                  null|                                   null|                                null|                 null|                                  null|                                null|                 null|                                  null|                                         null|                          null|                                           null|                                 345|   136.51000000000002|                                360180|                                         325|                        49.38|                                        127810|                                  637|                 27.69|                                  74364|                               448| 225.09999999999997|                              760461|                                            null|                             null|                                              null|                                 null|                  null|                                   null|                                 527|    88.43999999999998|                                483504|                                 2053|    327.79999999999995|                                1150698|                                null|                 null|                                  null|                                   null|                    null|                                     null|                                 null|                  null|                                   null|                                null|                 null|                                  null|                               null|                null|                                 null|                               null|                null|                                 null|                                 null|                  null|                                   null|                                   null|                    null|                                     null|                               null|                null|                                 null|                                      212|                     25.35|                                     140558|                                null|                 null|                                  null|                                null|                 null|                                  null|                                  null|                   null|                                    null|                             null|              null|                               null|                                      null|                       null|                                        null|                                   null|                    null|                                     null|                                227|  123.08000000000001|                               275880|                                null|                 null|                                  null|                                     null|                      null|                                       null|                             null|              null|                               null|                                              null|                               null|                                                null|                                       25657|           12425.409999999976|                                      27566889|                                     null|                      null|                                       null|\n",
      "|2011-05-06|                                   null|                    null|                                     null|                                   42|                 58.95|                                  74484|                                 null|                  null|                                   null|                                  182|                 63.32|                                 260274|                                null|                 null|                                  null|                                null|                 null|                                  null|                                         null|                          null|                                           null|                                null|                 null|                                  null|                                        null|                         null|                                          null|                                 null|                  null|                                   null|                              1694|              75.37|                              283120|                                            null|                             null|                                              null|                                 null|                  null|                                   null|                                null|                 null|                                  null|                                  222|    12.639999999999999|                                 126857|                                null|                 null|                                  null|                                   null|                    null|                                     null|                                 null|                  null|                                   null|                                null|                 null|                                  null|                               null|                null|                                 null|                               null|                null|                                 null|                                 null|                  null|                                   null|                                   null|                    null|                                     null|                               null|                null|                                 null|                                     null|                      null|                                       null|                                null|                 null|                                  null|                                null|                 null|                                  null|                                  null|                   null|                                    null|                             null|              null|                               null|                                      null|                       null|                                        null|                                   null|                    null|                                     null|                                 88|               113.1|                               187530|                                null|                 null|                                  null|                                     null|                      null|                                       null|                             null|              null|                               null|                                              null|                               null|                                                null|                                       17404|            6952.629999999985|                                      18722445|                                     null|                      null|                                       null|\n",
      "|2011-01-30|                                   null|                    null|                                     null|                                 null|                  null|                                   null|                                 null|                  null|                                   null|                                 null|                  null|                                   null|                                null|                 null|                                  null|                                null|                 null|                                  null|                                         null|                          null|                                           null|                                null|                 null|                                  null|                                        null|                         null|                                          null|                                 null|                  null|                                   null|                              null|               null|                                null|                                            null|                             null|                                              null|                                 null|                  null|                                   null|                                null|                 null|                                  null|                                 null|                  null|                                   null|                                null|                 null|                                  null|                                   null|                    null|                                     null|                                 null|                  null|                                   null|                                null|                 null|                                  null|                               null|                null|                                 null|                               null|                null|                                 null|                                 null|                  null|                                   null|                                   null|                    null|                                     null|                               null|                null|                                 null|                                     null|                      null|                                       null|                                null|                 null|                                  null|                                null|                 null|                                  null|                                  null|                   null|                                    null|                             null|              null|                               null|                                      null|                       null|                                        null|                                   null|                    null|                                     null|                               null|                null|                                 null|                                null|                 null|                                  null|                                     null|                      null|                                       null|                             null|              null|                               null|                                              null|                               null|                                                null|                                        3367|            2321.720000000002|                                      11334037|                                     null|                      null|                                       null|\n",
      "|2011-11-18|                                   null|                    null|                                     null|                                 null|                  null|                                   null|                                 null|                  null|                                   null|                                  315|     87.74000000000001|                                 210460|                                null|                 null|                                  null|                                null|                 null|                                  null|                                         null|                          null|                                           null|                                 300|   245.99000000000004|                               1239100|                                         -40|           6.9399999999999995|                                         38343|                                 null|                  null|                                   null|                               263| 230.84999999999982|                              819350|                                            null|                             null|                                              null|                                 null|                  null|                                   null|                                 550|               167.77|                                593838|                                  491|    128.18000000000004|                                 274863|                                null|                 null|                                  null|                                   null|                    null|                                     null|                                 null|                  null|                                   null|                                null|                 null|                                  null|                                544|  232.31999999999996|                               692230|                               null|                null|                                 null|                                 null|                  null|                                   null|                                   null|                    null|                                     null|                               null|                null|                                 null|                                       34|                     19.25|                                      29292|                                 242|   186.04000000000002|                                435540|                                  -8|    8.190000000000001|                                 38337|                                  null|                   null|                                    null|                             null|              null|                               null|                                      null|                       null|                                        null|                                   null|                    null|                                     null|                               null|                null|                                 null|                                  -3|                 2.89|                                 12697|                                      669|         78.28999999999998|                                     547844|                             null|              null|                               null|                                              null|                               null|                                                null|                                       20178|           10676.199999999879|                                      29578557|                                     null|                      null|                                       null|\n",
      "|2011-07-18|                                   null|                    null|                                     null|                                 null|                  null|                                   null|                                 null|                  null|                                   null|                                 null|                  null|                                   null|                                null|                 null|                                  null|                                null|                 null|                                  null|                                         null|                          null|                                           null|                                null|                 null|                                  null|                                        null|                         null|                                          null|                                 null|                  null|                                   null|                              1377| 146.97999999999988|                              999037|                                            null|                             null|                                              null|                                 null|                  null|                                   null|                                 921|   132.25000000000003|                                533282|                                 null|                  null|                                   null|                                null|                 null|                                  null|                                   null|                    null|                                     null|                                 null|                  null|                                   null|                                null|                 null|                                  null|                               null|                null|                                 null|                               null|                null|                                 null|                                 null|                  null|                                   null|                                   null|                    null|                                     null|                               null|                null|                                 null|                                     null|                      null|                                       null|                                null|                 null|                                  null|                                null|                 null|                                  null|                                  null|                   null|                                    null|                             null|              null|                               null|                                      null|                       null|                                        null|                                   2160|      230.45999999999998|                                   955800|                               null|                null|                                 null|                                null|                 null|                                  null|                                     null|                      null|                                       null|                             null|              null|                               null|                                              null|                               null|                                                null|                                        9908|            26946.80000000045|                                      16266983|                                     null|                      null|                                       null|\n",
      "+----------+---------------------------------------+------------------------+-----------------------------------------+-------------------------------------+----------------------+---------------------------------------+-------------------------------------+----------------------+---------------------------------------+-------------------------------------+----------------------+---------------------------------------+------------------------------------+---------------------+--------------------------------------+------------------------------------+---------------------+--------------------------------------+---------------------------------------------+------------------------------+-----------------------------------------------+------------------------------------+---------------------+--------------------------------------+--------------------------------------------+-----------------------------+----------------------------------------------+-------------------------------------+----------------------+---------------------------------------+----------------------------------+-------------------+------------------------------------+------------------------------------------------+---------------------------------+--------------------------------------------------+-------------------------------------+----------------------+---------------------------------------+------------------------------------+---------------------+--------------------------------------+-------------------------------------+----------------------+---------------------------------------+------------------------------------+---------------------+--------------------------------------+---------------------------------------+------------------------+-----------------------------------------+-------------------------------------+----------------------+---------------------------------------+------------------------------------+---------------------+--------------------------------------+-----------------------------------+--------------------+-------------------------------------+-----------------------------------+--------------------+-------------------------------------+-------------------------------------+----------------------+---------------------------------------+---------------------------------------+------------------------+-----------------------------------------+-----------------------------------+--------------------+-------------------------------------+-----------------------------------------+--------------------------+-------------------------------------------+------------------------------------+---------------------+--------------------------------------+------------------------------------+---------------------+--------------------------------------+--------------------------------------+-----------------------+----------------------------------------+---------------------------------+------------------+-----------------------------------+------------------------------------------+---------------------------+--------------------------------------------+---------------------------------------+------------------------+-----------------------------------------+-----------------------------------+--------------------+-------------------------------------+------------------------------------+---------------------+--------------------------------------+-----------------------------------------+--------------------------+-------------------------------------------+---------------------------------+------------------+-----------------------------------+--------------------------------------------------+-----------------------------------+----------------------------------------------------+--------------------------------------------+-----------------------------+----------------------------------------------+-----------------------------------------+--------------------------+-------------------------------------------+\n",
      "only showing top 5 rows\n",
      "\n"
     ]
    }
   ],
   "source": [
    "pivoted = dfWithDate.groupBy(\"date\").pivot(\"Country\").sum()\n",
    "pivoted.printSchema()\n",
    "pivoted.show(5)"
   ]
  },
  {
   "cell_type": "markdown",
   "metadata": {},
   "source": [
    "**Join Operations**\n",
    "\n",
    "We can perform join operations over DataFrames. In SQL, Join table operations combine columns from one or more tables in a relational database. Here, Dataframes instead of tables.\n",
    "The following is the dataset for learning join operations. \n",
    "\n",
    "https://spark.apache.org/docs/latest/sql-ref-syntax-qry-select-join.html"
   ]
  },
  {
   "cell_type": "code",
   "execution_count": 37,
   "metadata": {},
   "outputs": [],
   "source": [
    "person = spark.createDataFrame([\n",
    "    (0, \"Bill Chambers\", 0, [100]),\n",
    "    (1, \"Matei Zaharia\", 1, [500, 250, 100]),\n",
    "    (2, \"Michael Armbrust\", 1, [250, 100])])\\\n",
    "    .toDF(\"id\", \"name\", \"graduate_program\", \"spark_status\")\n",
    "\n",
    "graduateProgram = spark.createDataFrame([\n",
    "    (0, \"Masters\", \"School of Information\", \"UC Berkeley\"),\n",
    "    (2, \"Masters\", \"EECS\", \"UC Berkeley\"),\n",
    "    (1, \"Ph.D.\", \"EECS\", \"UC Berkeley\")])\\\n",
    "    .toDF(\"id\", \"degree\", \"department\", \"school\")\n",
    "\n",
    "sparkStatus = spark.createDataFrame([\n",
    "    (500, \"Vice President\"),\n",
    "    (250, \"PMC Member\"),\n",
    "    (100, \"Contributor\")])\\\n",
    "    .toDF(\"id\", \"status\")"
   ]
  },
  {
   "cell_type": "code",
   "execution_count": 38,
   "metadata": {},
   "outputs": [
    {
     "name": "stdout",
     "output_type": "stream",
     "text": [
      "+---+----------------+----------------+---------------+---+-------+--------------------+-----------+\n",
      "| id|            name|graduate_program|   spark_status| id| degree|          department|     school|\n",
      "+---+----------------+----------------+---------------+---+-------+--------------------+-----------+\n",
      "|  0|   Bill Chambers|               0|          [100]|  0|Masters|School of Informa...|UC Berkeley|\n",
      "|  1|   Matei Zaharia|               1|[500, 250, 100]|  1|  Ph.D.|                EECS|UC Berkeley|\n",
      "|  2|Michael Armbrust|               1|     [250, 100]|  1|  Ph.D.|                EECS|UC Berkeley|\n",
      "+---+----------------+----------------+---------------+---+-------+--------------------+-----------+\n",
      "\n"
     ]
    }
   ],
   "source": [
    "joinExpression = person[\"graduate_program\"] == graduateProgram['id']\n",
    "person.join(graduateProgram, joinExpression,\"inner\").show()"
   ]
  },
  {
   "cell_type": "code",
   "execution_count": 39,
   "metadata": {},
   "outputs": [
    {
     "name": "stdout",
     "output_type": "stream",
     "text": [
      "+---+----------------+----------------+---------------+---+-------+--------------------+-----------+\n",
      "| id|            name|graduate_program|   spark_status| id| degree|          department|     school|\n",
      "+---+----------------+----------------+---------------+---+-------+--------------------+-----------+\n",
      "|  0|   Bill Chambers|               0|          [100]|  0|Masters|School of Informa...|UC Berkeley|\n",
      "|  1|   Matei Zaharia|               1|[500, 250, 100]|  1|  Ph.D.|                EECS|UC Berkeley|\n",
      "|  2|Michael Armbrust|               1|     [250, 100]|  1|  Ph.D.|                EECS|UC Berkeley|\n",
      "+---+----------------+----------------+---------------+---+-------+--------------------+-----------+\n",
      "\n"
     ]
    }
   ],
   "source": [
    "person.join(graduateProgram, joinExpression,\"inner\").show()"
   ]
  },
  {
   "cell_type": "code",
   "execution_count": 41,
   "metadata": {},
   "outputs": [
    {
     "name": "stdout",
     "output_type": "stream",
     "text": [
      "+----+----------------+----------------+---------------+---+-------+--------------------+-----------+\n",
      "|  id|            name|graduate_program|   spark_status| id| degree|          department|     school|\n",
      "+----+----------------+----------------+---------------+---+-------+--------------------+-----------+\n",
      "|   0|   Bill Chambers|               0|          [100]|  0|Masters|School of Informa...|UC Berkeley|\n",
      "|   1|   Matei Zaharia|               1|[500, 250, 100]|  1|  Ph.D.|                EECS|UC Berkeley|\n",
      "|   2|Michael Armbrust|               1|     [250, 100]|  1|  Ph.D.|                EECS|UC Berkeley|\n",
      "|null|            null|            null|           null|  2|Masters|                EECS|UC Berkeley|\n",
      "+----+----------------+----------------+---------------+---+-------+--------------------+-----------+\n",
      "\n"
     ]
    }
   ],
   "source": [
    "person.join(graduateProgram, joinExpression, \"outer\").show()"
   ]
  },
  {
   "cell_type": "code",
   "execution_count": 42,
   "metadata": {},
   "outputs": [
    {
     "name": "stdout",
     "output_type": "stream",
     "text": [
      "+---+-------+--------------------+-----------+----+----------------+----------------+---------------+\n",
      "| id| degree|          department|     school|  id|            name|graduate_program|   spark_status|\n",
      "+---+-------+--------------------+-----------+----+----------------+----------------+---------------+\n",
      "|  0|Masters|School of Informa...|UC Berkeley|   0|   Bill Chambers|               0|          [100]|\n",
      "|  1|  Ph.D.|                EECS|UC Berkeley|   1|   Matei Zaharia|               1|[500, 250, 100]|\n",
      "|  1|  Ph.D.|                EECS|UC Berkeley|   2|Michael Armbrust|               1|     [250, 100]|\n",
      "|  2|Masters|                EECS|UC Berkeley|null|            null|            null|           null|\n",
      "+---+-------+--------------------+-----------+----+----------------+----------------+---------------+\n",
      "\n"
     ]
    }
   ],
   "source": [
    "graduateProgram.join(person, joinExpression, \"left_outer\").show()"
   ]
  },
  {
   "cell_type": "code",
   "execution_count": 43,
   "metadata": {},
   "outputs": [
    {
     "name": "stdout",
     "output_type": "stream",
     "text": [
      "+----+----------------+----------------+---------------+---+-------+--------------------+-----------+\n",
      "|  id|            name|graduate_program|   spark_status| id| degree|          department|     school|\n",
      "+----+----------------+----------------+---------------+---+-------+--------------------+-----------+\n",
      "|   0|   Bill Chambers|               0|          [100]|  0|Masters|School of Informa...|UC Berkeley|\n",
      "|   1|   Matei Zaharia|               1|[500, 250, 100]|  1|  Ph.D.|                EECS|UC Berkeley|\n",
      "|   2|Michael Armbrust|               1|     [250, 100]|  1|  Ph.D.|                EECS|UC Berkeley|\n",
      "|null|            null|            null|           null|  2|Masters|                EECS|UC Berkeley|\n",
      "+----+----------------+----------------+---------------+---+-------+--------------------+-----------+\n",
      "\n"
     ]
    }
   ],
   "source": [
    "person.join(graduateProgram, joinExpression, \"right_outer\").show()"
   ]
  },
  {
   "cell_type": "code",
   "execution_count": 44,
   "metadata": {},
   "outputs": [
    {
     "name": "stdout",
     "output_type": "stream",
     "text": [
      "+---+-------+----------+-----------+\n",
      "| id| degree|department|     school|\n",
      "+---+-------+----------+-----------+\n",
      "|  2|Masters|      EECS|UC Berkeley|\n",
      "+---+-------+----------+-----------+\n",
      "\n"
     ]
    }
   ],
   "source": [
    "graduateProgram.join(person, joinExpression, \"left_anti\").show()"
   ]
  },
  {
   "cell_type": "code",
   "execution_count": 45,
   "metadata": {},
   "outputs": [
    {
     "name": "stdout",
     "output_type": "stream",
     "text": [
      "+---+-------+--------------------+-----------+\n",
      "| id| degree|          department|     school|\n",
      "+---+-------+--------------------+-----------+\n",
      "|  0|Masters|School of Informa...|UC Berkeley|\n",
      "|  1|  Ph.D.|                EECS|UC Berkeley|\n",
      "+---+-------+--------------------+-----------+\n",
      "\n"
     ]
    }
   ],
   "source": [
    "graduateProgram.join(person, joinExpression, \"left_semi\").show()"
   ]
  },
  {
   "cell_type": "code",
   "execution_count": 46,
   "metadata": {},
   "outputs": [
    {
     "name": "stdout",
     "output_type": "stream",
     "text": [
      "+---+-------+--------------------+-----------+---+----------------+----------------+---------------+\n",
      "| id| degree|          department|     school| id|            name|graduate_program|   spark_status|\n",
      "+---+-------+--------------------+-----------+---+----------------+----------------+---------------+\n",
      "|  0|Masters|School of Informa...|UC Berkeley|  0|   Bill Chambers|               0|          [100]|\n",
      "|  1|  Ph.D.|                EECS|UC Berkeley|  1|   Matei Zaharia|               1|[500, 250, 100]|\n",
      "|  1|  Ph.D.|                EECS|UC Berkeley|  2|Michael Armbrust|               1|     [250, 100]|\n",
      "+---+-------+--------------------+-----------+---+----------------+----------------+---------------+\n",
      "\n"
     ]
    }
   ],
   "source": [
    "graduateProgram.join(person, joinExpression, \"cross\").show()"
   ]
  },
  {
   "cell_type": "markdown",
   "metadata": {},
   "source": [
    "We can also perform joins based on complex types by using join expressions. Any expression is a valid join expression as long as it returns a Boolean.\n",
    "In the following example, the join expression check If “id” is in “spark_status” column data (which is an array)."
   ]
  },
  {
   "cell_type": "code",
   "execution_count": 47,
   "metadata": {},
   "outputs": [
    {
     "name": "stdout",
     "output_type": "stream",
     "text": [
      "+--------+----------------+----------------+---------------+---+--------------+\n",
      "|personId|            name|graduate_program|   spark_status| id|        status|\n",
      "+--------+----------------+----------------+---------------+---+--------------+\n",
      "|       0|   Bill Chambers|               0|          [100]|100|   Contributor|\n",
      "|       1|   Matei Zaharia|               1|[500, 250, 100]|500|Vice President|\n",
      "|       1|   Matei Zaharia|               1|[500, 250, 100]|250|    PMC Member|\n",
      "|       1|   Matei Zaharia|               1|[500, 250, 100]|100|   Contributor|\n",
      "|       2|Michael Armbrust|               1|     [250, 100]|250|    PMC Member|\n",
      "|       2|Michael Armbrust|               1|     [250, 100]|100|   Contributor|\n",
      "+--------+----------------+----------------+---------------+---+--------------+\n",
      "\n"
     ]
    }
   ],
   "source": [
    "from pyspark.sql.functions import expr\n",
    "\n",
    "person.withColumnRenamed(\"id\", \"personId\")\\\n",
    "    .join(sparkStatus, expr(\"array_contains(spark_status, id)\")).show()\n"
   ]
  },
  {
   "cell_type": "markdown",
   "metadata": {},
   "source": [
    "**User Defined Functions**\n",
    "\n",
    "We also define and use our own custom functions as part of transformations (within the expressions). \n"
   ]
  },
  {
   "cell_type": "code",
   "execution_count": 15,
   "metadata": {},
   "outputs": [
    {
     "name": "stdout",
     "output_type": "stream",
     "text": [
      "+-----------+\n",
      "|power3(num)|\n",
      "+-----------+\n",
      "|          0|\n",
      "|          1|\n",
      "+-----------+\n",
      "only showing top 2 rows\n",
      "\n"
     ]
    }
   ],
   "source": [
    "from pyspark.sql.functions import col\n",
    "from pyspark.sql.functions import udf\n",
    "# define the function\n",
    "def power3(double_value):\n",
    "    return double_value ** 3\n",
    "# register the function\n",
    "power3udf = udf(power3)\n",
    "# use the function with SQL quries\n",
    "udfExampleDF = spark.range(5).toDF(\"num\")\n",
    "udfExampleDF.select(power3udf(col(\"num\"))).show(2)"
   ]
  },
  {
   "cell_type": "code",
   "execution_count": 34,
   "metadata": {},
   "outputs": [],
   "source": [
    "# Stop the spark context\n",
    "spark.stop()"
   ]
  }
 ],
 "metadata": {
  "kernelspec": {
   "display_name": "Python 3",
   "language": "python",
   "name": "python3"
  },
  "language_info": {
   "codemirror_mode": {
    "name": "ipython",
    "version": 3
   },
   "file_extension": ".py",
   "mimetype": "text/x-python",
   "name": "python",
   "nbconvert_exporter": "python",
   "pygments_lexer": "ipython3",
   "version": "3.9.4"
  }
 },
 "nbformat": 4,
 "nbformat_minor": 4
}
