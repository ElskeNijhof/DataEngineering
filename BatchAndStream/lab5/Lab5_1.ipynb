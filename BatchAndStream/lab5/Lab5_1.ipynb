{
 "cells": [
  {
   "cell_type": "code",
   "execution_count": 3,
   "id": "256a06e8-5c19-493f-b597-b21467b7d585",
   "metadata": {},
   "outputs": [
    {
     "name": "stdout",
     "output_type": "stream",
     "text": [
      "root\n",
      " |-- name: string (nullable = true)\n",
      " |-- age: long (nullable = true)\n",
      " |-- occupation: string (nullable = true)\n",
      "\n"
     ]
    },
    {
     "name": "stderr",
     "output_type": "stream",
     "text": [
      "                                                                                \r"
     ]
    },
    {
     "name": "stdout",
     "output_type": "stream",
     "text": [
      "+-----+---+----------+\n",
      "| name|age|occupation|\n",
      "+-----+---+----------+\n",
      "|  Jim| 45|   teacher|\n",
      "|Alice| 25|   teacher|\n",
      "+-----+---+----------+\n",
      "\n"
     ]
    },
    {
     "data": {
      "text/plain": [
       "2"
      ]
     },
     "execution_count": 3,
     "metadata": {},
     "output_type": "execute_result"
    }
   ],
   "source": [
    "from pyspark.sql import SparkSession\n",
    "spark = SparkSession.builder.appName(\"MyFirstSparkApp\")\\\n",
    "        .master(\"spark://spark-master:7077\").getOrCreate() \n",
    "# create a dataframe by providing raw values and columns \n",
    "df = spark.createDataFrame(\n",
    "    [\n",
    "        (\"Tom\", 33, \"footballer\"),  # create your data here, be consistent in the types.\n",
    "        (\"Jim\", 45, \"teacher\"),\n",
    "        (\"Alice\", 25, \"teacher\"),\n",
    "    ],\n",
    "    [\"name\", \"age\", \"occupation\"],  # add your column names here\n",
    ")\n",
    "# check the schema of the table\n",
    "df.printSchema()\n",
    "# apply filtering transformation\n",
    "df = df.where(df.occupation == \"teacher\")\n",
    "# print the result\n",
    "df.show()\n",
    "df.count()"
   ]
  },
  {
   "cell_type": "code",
   "execution_count": 4,
   "id": "4030a338-c77d-4fff-b6c9-bc33b185a3bf",
   "metadata": {},
   "outputs": [],
   "source": [
    "# Stop the spark context\n",
    "spark.stop()"
   ]
  }
 ],
 "metadata": {
  "kernelspec": {
   "display_name": "Python 3 (ipykernel)",
   "language": "python",
   "name": "python3"
  },
  "language_info": {
   "codemirror_mode": {
    "name": "ipython",
    "version": 3
   },
   "file_extension": ".py",
   "mimetype": "text/x-python",
   "name": "python",
   "nbconvert_exporter": "python",
   "pygments_lexer": "ipython3",
   "version": "3.9.7"
  }
 },
 "nbformat": 4,
 "nbformat_minor": 5
}
