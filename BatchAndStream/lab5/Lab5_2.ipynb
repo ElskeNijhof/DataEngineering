version https://git-lfs.github.com/spec/v1
oid sha256:4efb3b476b4b3f93cfae38c771fcbff6036e286982145d6dc55c2ed12057cd1c
size 2961
