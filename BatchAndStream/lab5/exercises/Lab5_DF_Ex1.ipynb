{
 "cells": [
  {
   "cell_type": "code",
   "execution_count": 9,
   "id": "256a06e8-5c19-493f-b597-b21467b7d585",
   "metadata": {},
   "outputs": [
    {
     "name": "stderr",
     "output_type": "stream",
     "text": [
      "                                                                                \r"
     ]
    }
   ],
   "source": [
    "from pyspark.sql import SparkSession\n",
    "from pyspark import SparkConf\n",
    "\n",
    "sparkConf = SparkConf()\n",
    "sparkConf.setMaster(\"spark://spark-master:7077\")\n",
    "sparkConf.setAppName(\"Lab5_DF_EX1\")\n",
    "sparkConf.set(\"spark.driver.memory\", \"2g\")\n",
    "sparkConf.set(\"spark.executor.cores\", \"1\")\n",
    "sparkConf.set(\"spark.driver.cores\", \"1\")\n",
    "\n",
    "# create the spark session, which is the entry point to Spark SQL engine.\n",
    "spark = SparkSession.builder.config(conf=sparkConf).getOrCreate()\n",
    "df = spark.read.format(\"csv\").option(\"header\", \"true\") \\\n",
    "       .load(\"/home/jovyan/data/sales.csv\")"
   ]
  },
  {
   "cell_type": "markdown",
   "id": "291c0260-b2b9-448b-8e5a-0676c4b2364d",
   "metadata": {},
   "source": [
    "how many distinct products have been sold in each store? \n",
    "\n",
    "There are several alternative ways to do this."
   ]
  },
  {
   "cell_type": "code",
   "execution_count": 10,
   "id": "d466427d-b243-42dd-9784-c81f350bbb02",
   "metadata": {},
   "outputs": [
    {
     "name": "stderr",
     "output_type": "stream",
     "text": [
      "                                                                                \r"
     ]
    },
    {
     "name": "stdout",
     "output_type": "stream",
     "text": [
      "+--------+----------+\n",
      "|store_id|product_id|\n",
      "+--------+----------+\n",
      "|       2|        22|\n",
      "|       2|       138|\n",
      "|       2|      1245|\n",
      "|       2|       756|\n",
      "|       3|       502|\n",
      "|       3|       310|\n",
      "|       3|      1009|\n",
      "|       3|       315|\n",
      "|       3|        42|\n",
      "|       3|      1486|\n",
      "|       3|        49|\n",
      "|       3|       587|\n",
      "|       3|       539|\n",
      "|       6|      1238|\n",
      "|       6|      1069|\n",
      "|       6|      1401|\n",
      "|       6|       152|\n",
      "|       6|       162|\n",
      "|       7|       273|\n",
      "|       7|       752|\n",
      "+--------+----------+\n",
      "only showing top 20 rows\n",
      "\n"
     ]
    },
    {
     "name": "stderr",
     "output_type": "stream",
     "text": [
      "                                                                                \r"
     ]
    },
    {
     "name": "stdout",
     "output_type": "stream",
     "text": [
      "+--------+----------+\n",
      "|store_id|product_id|\n",
      "+--------+----------+\n",
      "|       2|        22|\n",
      "|       2|       138|\n",
      "|       2|      1245|\n",
      "|       2|       756|\n",
      "|       3|       502|\n",
      "|       3|       310|\n",
      "|       3|      1009|\n",
      "|       3|       315|\n",
      "|       3|        42|\n",
      "|       3|      1486|\n",
      "|       3|        49|\n",
      "|       3|       587|\n",
      "|       3|       539|\n",
      "|       6|      1238|\n",
      "|       6|      1069|\n",
      "|       6|      1401|\n",
      "|       6|       152|\n",
      "|       6|       162|\n",
      "|       7|       273|\n",
      "|       7|       752|\n",
      "+--------+----------+\n",
      "only showing top 20 rows\n",
      "\n",
      "+--------+----------+\n",
      "|store_id|product_id|\n",
      "+--------+----------+\n",
      "|       2|        22|\n",
      "|       2|       138|\n",
      "|       2|      1245|\n",
      "|       2|       756|\n",
      "|       3|       502|\n",
      "|       3|       310|\n",
      "|       3|      1009|\n",
      "|       3|       315|\n",
      "|       3|        42|\n",
      "|       3|      1486|\n",
      "|       3|        49|\n",
      "|       3|       587|\n",
      "|       3|       539|\n",
      "|       6|      1238|\n",
      "|       6|      1069|\n",
      "|       6|      1401|\n",
      "|       6|       152|\n",
      "|       6|       162|\n",
      "|       7|       273|\n",
      "|       7|       752|\n",
      "+--------+----------+\n",
      "only showing top 20 rows\n",
      "\n"
     ]
    },
    {
     "name": "stderr",
     "output_type": "stream",
     "text": [
      "                                                                                \r"
     ]
    }
   ],
   "source": [
    "# 1\n",
    "df.select(\"store_id\", \"product_id\").distinct().show()\n",
    "# 2\n",
    "df.select(\"store_id\", \"product_id\").dropDuplicates().show()\n",
    "#3\n",
    "df.dropDuplicates([\"store_id\",\"product_id\"]).select(\"store_id\",\"product_id\").show()\n",
    "# https://towardsdatascience.com/distinct-vs-dropduplicates-in-spark-3e28af1f793c "
   ]
  },
  {
   "cell_type": "code",
   "execution_count": 11,
   "id": "aa621131-26cb-48a8-8f6b-6e01934395ae",
   "metadata": {},
   "outputs": [],
   "source": [
    "# Stop the spark context\n",
    "spark.stop()"
   ]
  }
 ],
 "metadata": {
  "kernelspec": {
   "display_name": "Python 3 (ipykernel)",
   "language": "python",
   "name": "python3"
  },
  "language_info": {
   "codemirror_mode": {
    "name": "ipython",
    "version": 3
   },
   "file_extension": ".py",
   "mimetype": "text/x-python",
   "name": "python",
   "nbconvert_exporter": "python",
   "pygments_lexer": "ipython3",
   "version": "3.9.7"
  }
 },
 "nbformat": 4,
 "nbformat_minor": 5
}
