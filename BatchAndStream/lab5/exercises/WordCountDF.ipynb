{
 "cells": [
  {
   "cell_type": "code",
   "execution_count": 20,
   "metadata": {},
   "outputs": [
    {
     "name": "stdout",
     "output_type": "stream",
     "text": [
      "+--------------------+\n",
      "|               value|\n",
      "+--------------------+\n",
      "|We've all heard t...|\n",
      "|leader so deluded...|\n",
      "+--------------------+\n",
      "only showing top 2 rows\n",
      "\n",
      "+-----+\n",
      "| word|\n",
      "+-----+\n",
      "|We've|\n",
      "|  all|\n",
      "+-----+\n",
      "only showing top 2 rows\n",
      "\n",
      "394\n",
      "+-------------+-----+\n",
      "|         word|count|\n",
      "+-------------+-----+\n",
      "|      gizzard|    1|\n",
      "|         used|    1|\n",
      "|         even|    2|\n",
      "|      Korea's|    1|\n",
      "|          got|    1|\n",
      "|          him|    2|\n",
      "|        could|    1|\n",
      "|        time.|    1|\n",
      "|intentionally|    1|\n",
      "|          not|    1|\n",
      "+-------------+-----+\n",
      "only showing top 10 rows\n",
      "\n"
     ]
    },
    {
     "name": "stderr",
     "output_type": "stream",
     "text": [
      "                                                                                \r"
     ]
    },
    {
     "name": "stdout",
     "output_type": "stream",
     "text": [
      "+-----+-----+\n",
      "| word|count|\n",
      "+-----+-----+\n",
      "|  the|   22|\n",
      "|   of|   11|\n",
      "|  and|   11|\n",
      "|   to|   11|\n",
      "|     |   11|\n",
      "|    a|   10|\n",
      "| with|    6|\n",
      "|their|    6|\n",
      "|North|    5|\n",
      "| beer|    4|\n",
      "+-----+-----+\n",
      "only showing top 10 rows\n",
      "\n",
      "+----------+\n",
      "|word:count|\n",
      "+----------+\n",
      "| gizzard:1|\n",
      "|    used:1|\n",
      "+----------+\n",
      "only showing top 2 rows\n",
      "\n"
     ]
    }
   ],
   "source": [
    "from pyspark.sql import SparkSession\n",
    "from pyspark.sql.functions import explode, split, concat, col, lit,desc\n",
    "spark = SparkSession.builder.appName(\"WordCountDF\")\\\n",
    "        .master(\"spark://spark-master:7077\").getOrCreate() \n",
    "\n",
    "df = spark.read.format(\"text\").load(\"/home/jovyan/data/wordcount.txt\")\n",
    "\n",
    "df.show(2)\n",
    "\n",
    "words = df.select(\n",
    "        explode(\n",
    "            split(col(\"value\"), \" \")\n",
    "        ).alias(\"word\")\n",
    "       )\n",
    "words.show(2)\n",
    "print(words.count())\n",
    "wordCounts = words.groupBy(\"word\").count()\n",
    "wordCounts.show(10)\n",
    "wordCounts.orderBy(\"count\",ascending=False).show(10)\n",
    "\n",
    "wordCounts.select(concat(col(\"word\"), lit(\":\"), col(\"count\")).alias(\"word:count\")).show(2)"
   ]
  },
  {
   "cell_type": "code",
   "execution_count": 21,
   "metadata": {},
   "outputs": [],
   "source": [
    "# Stop the spark context\n",
    "spark.stop()"
   ]
  }
 ],
 "metadata": {
  "kernelspec": {
   "display_name": "Python 3 (ipykernel)",
   "language": "python",
   "name": "python3"
  },
  "language_info": {
   "codemirror_mode": {
    "name": "ipython",
    "version": 3
   },
   "file_extension": ".py",
   "mimetype": "text/x-python",
   "name": "python",
   "nbconvert_exporter": "python",
   "pygments_lexer": "ipython3",
   "version": "3.9.7"
  }
 },
 "nbformat": 4,
 "nbformat_minor": 4
}
