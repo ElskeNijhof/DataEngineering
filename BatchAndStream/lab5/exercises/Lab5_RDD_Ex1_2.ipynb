{
 "cells": [
  {
   "cell_type": "code",
   "execution_count": 1,
   "id": "69c65a42",
   "metadata": {},
   "outputs": [
    {
     "name": "stderr",
     "output_type": "stream",
     "text": [
      "WARNING: An illegal reflective access operation has occurred\n",
      "WARNING: Illegal reflective access by org.apache.spark.unsafe.Platform (file:/usr/local/spark-3.1.2-bin-hadoop3.2/jars/spark-unsafe_2.12-3.1.2.jar) to constructor java.nio.DirectByteBuffer(long,int)\n",
      "WARNING: Please consider reporting this to the maintainers of org.apache.spark.unsafe.Platform\n",
      "WARNING: Use --illegal-access=warn to enable warnings of further illegal reflective access operations\n",
      "WARNING: All illegal access operations will be denied in a future release\n",
      "21/10/22 08:04:21 WARN NativeCodeLoader: Unable to load native-hadoop library for your platform... using builtin-java classes where applicable\n",
      "Using Spark's default log4j profile: org/apache/spark/log4j-defaults.properties\n",
      "Setting default log level to \"WARN\".\n",
      "To adjust logging level use sc.setLogLevel(newLevel). For SparkR, use setLogLevel(newLevel).\n"
     ]
    }
   ],
   "source": [
    "from pyspark.sql import SparkSession\n",
    "from operator import add\n",
    "spark = SparkSession.builder.appName(\"MapReduceEmployeeInfo\").master(\"spark://spark-master:7077\").getOrCreate() \n",
    "# A SparkContext represents the connection to a Spark cluster, and can be used to create RDDs, accumulators and broadcast variables on that cluster.\n",
    "sc = spark.sparkContext\n",
    "sc.setLogLevel('FATAL')\n",
    "lines_rdd = spark.sparkContext.textFile(\"/home/jovyan/data/employee_info.csv\") # create a RDD from a text file"
   ]
  },
  {
   "cell_type": "markdown",
   "id": "b5e1424d-b1ff-4e13-be95-84b10e8152c5",
   "metadata": {},
   "source": [
    "https://spark.apache.org/docs/1.1.1/api/python/pyspark.rdd.RDD-class.html\n",
    "\n",
    "How many police officers are there at the POLICE department?"
   ]
  },
  {
   "cell_type": "code",
   "execution_count": 2,
   "id": "8eff4858",
   "metadata": {},
   "outputs": [
    {
     "name": "stderr",
     "output_type": "stream",
     "text": [
      "[Stage 0:>                                                          (0 + 1) / 2]\r"
     ]
    },
    {
     "name": "stdout",
     "output_type": "stream",
     "text": [
      "10639\n"
     ]
    },
    {
     "name": "stderr",
     "output_type": "stream",
     "text": [
      "                                                                                \r"
     ]
    }
   ],
   "source": [
    "def filterFun(x):\n",
    "    if \"POLICE OFFICER\" in x: \n",
    "        return True\n",
    "    return False\n",
    "\n",
    "print(lines_rdd.filter(filterFun).count())"
   ]
  },
  {
   "cell_type": "markdown",
   "id": "4017bfa0-4e4d-4d23-9d9a-5816ae0c2e2c",
   "metadata": {},
   "source": [
    "Who is the lieutenant with the highest salary at the FIRE department?"
   ]
  },
  {
   "cell_type": "code",
   "execution_count": 30,
   "id": "157d1ea8-56ae-4e32-9200-b5153a8c05a9",
   "metadata": {},
   "outputs": [
    {
     "name": "stdout",
     "output_type": "stream",
     "text": [
      "TIM P EDWARDS\n",
      "114846.0\n"
     ]
    }
   ],
   "source": [
    "from operator import add\n",
    "import re\n",
    "def filterFun2(x):\n",
    "    if \"FIRE\" in x and re.search(r'\\b,LIEUTENANT,\\b', x) is not None:  \n",
    "        return True\n",
    "    return False\n",
    "\n",
    "def mapFun(x):\n",
    "    vals = x.split(',')   \n",
    "    return (float(vals[-2]),vals[1] + ' ' + vals[0])\n",
    "\n",
    "fire_lie_rdd = lines_rdd.filter(filterFun2)\n",
    "output = fire_lie_rdd.map(mapFun).sortByKey(ascending=False).take(1) \n",
    "salary, name = output[0]\n",
    "print(name)\n",
    "print(salary)"
   ]
  },
  {
   "cell_type": "code",
   "execution_count": 31,
   "id": "9cc727df-50c0-4297-aad7-bcb57d715401",
   "metadata": {},
   "outputs": [],
   "source": [
    "# Stop the spark context\n",
    "spark.stop()"
   ]
  }
 ],
 "metadata": {
  "kernelspec": {
   "display_name": "Python 3 (ipykernel)",
   "language": "python",
   "name": "python3"
  },
  "language_info": {
   "codemirror_mode": {
    "name": "ipython",
    "version": 3
   },
   "file_extension": ".py",
   "mimetype": "text/x-python",
   "name": "python",
   "nbconvert_exporter": "python",
   "pygments_lexer": "ipython3",
   "version": "3.9.7"
  }
 },
 "nbformat": 4,
 "nbformat_minor": 5
}
